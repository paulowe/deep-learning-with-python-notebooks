{
 "cells": [
  {
   "cell_type": "markdown",
   "metadata": {
    "colab_type": "text"
   },
   "source": [
    "This is a companion notebook for the book [Deep Learning with Python, Second Edition](https://www.manning.com/books/deep-learning-with-python-second-edition?a_aid=keras&a_bid=76564dff). For readability, it only contains runnable code blocks and section titles, and omits everything else in the book: text paragraphs, figures, and pseudocode.\n",
    "\n",
    "**If you want to be able to follow what's going on, I recommend reading the notebook side by side with your copy of the book.**\n",
    "\n",
    "This notebook was generated for TensorFlow 2.6."
   ]
  },
  {
   "cell_type": "markdown",
   "metadata": {
    "colab_type": "text"
   },
   "source": [
    "# Working with Keras: A deep dive"
   ]
  },
  {
   "cell_type": "markdown",
   "metadata": {
    "colab_type": "text"
   },
   "source": [
    "## A spectrum of workflows"
   ]
  },
  {
   "cell_type": "markdown",
   "metadata": {
    "colab_type": "text"
   },
   "source": [
    "## Different ways to build Keras models"
   ]
  },
  {
   "cell_type": "markdown",
   "metadata": {
    "colab_type": "text"
   },
   "source": [
    "### The Sequential model"
   ]
  },
  {
   "cell_type": "markdown",
   "metadata": {
    "colab_type": "text"
   },
   "source": [
    "**The `Sequential` class**"
   ]
  },
  {
   "cell_type": "code",
   "execution_count": 1,
   "metadata": {},
   "outputs": [],
   "source": [
    "from tensorflow import keras\n",
    "from tensorflow.keras import layers"
   ]
  },
  {
   "cell_type": "code",
   "execution_count": 2,
   "metadata": {
    "colab_type": "code"
   },
   "outputs": [],
   "source": [
    "from tensorflow import keras\n",
    "from tensorflow.keras import layers\n",
    "\n",
    "model = keras.Sequential([\n",
    "    layers.Dense(64, activation=\"relu\"),\n",
    "    layers.Dense(10, activation=\"softmax\")\n",
    "])"
   ]
  },
  {
   "cell_type": "markdown",
   "metadata": {
    "colab_type": "text"
   },
   "source": [
    "**Incrementally building a Sequential model**"
   ]
  },
  {
   "cell_type": "code",
   "execution_count": 3,
   "metadata": {
    "colab_type": "code"
   },
   "outputs": [],
   "source": [
    "model = keras.Sequential()\n",
    "model.add(layers.Dense(64, activation=\"relu\"))\n",
    "model.add(layers.Dense(10, activation=\"softmax\"))"
   ]
  },
  {
   "cell_type": "markdown",
   "metadata": {
    "colab_type": "text"
   },
   "source": [
    "**Calling a model for the first time to build it**"
   ]
  },
  {
   "cell_type": "code",
   "execution_count": 4,
   "metadata": {
    "colab_type": "code"
   },
   "outputs": [
    {
     "data": {
      "text/plain": [
       "[<tf.Variable 'dense_2/kernel:0' shape=(3, 64) dtype=float32, numpy=\n",
       " array([[ 0.24254292, -0.14568289, -0.12268361,  0.12811238,  0.25720102,\n",
       "          0.1661686 , -0.19238499, -0.26524818, -0.00219208, -0.23825246,\n",
       "          0.05912882, -0.23323724, -0.11876699,  0.13327506,  0.14785814,\n",
       "         -0.18381995,  0.04567876,  0.05805948, -0.10114083, -0.02503553,\n",
       "         -0.1203512 ,  0.26849997,  0.2542798 , -0.00924191,  0.12492958,\n",
       "          0.0735853 , -0.01115781,  0.26953638, -0.18748099,  0.03481534,\n",
       "          0.04527301,  0.05389935,  0.16548216,  0.1232467 ,  0.25860655,\n",
       "         -0.15854284, -0.13241833, -0.26924843,  0.09701651,  0.21420473,\n",
       "          0.06006604,  0.22686428,  0.1871657 , -0.10509233, -0.1732663 ,\n",
       "          0.20204353, -0.27548835, -0.14561932, -0.07603189, -0.19615862,\n",
       "         -0.04050928, -0.16973974, -0.19122487, -0.1208684 , -0.2179263 ,\n",
       "          0.12420666,  0.16154078,  0.11483634, -0.12132002, -0.08078392,\n",
       "          0.06139538, -0.16565117,  0.23236024, -0.00299665],\n",
       "        [ 0.25085872, -0.25317636, -0.05468017, -0.06815077,  0.21828693,\n",
       "          0.27638668, -0.18486097, -0.2943423 , -0.2796332 ,  0.11994401,\n",
       "          0.12336293, -0.24480936, -0.15123343,  0.05136359, -0.24384111,\n",
       "         -0.21373864,  0.14740592,  0.16049069,  0.22718358,  0.28901774,\n",
       "          0.28362787, -0.05037357, -0.18729284,  0.06800508,  0.13541615,\n",
       "          0.01253653,  0.02715006, -0.01923856,  0.11323166,  0.01227805,\n",
       "         -0.24964586, -0.2439064 ,  0.09114271, -0.14470157,  0.03085071,\n",
       "          0.27045685,  0.13261947,  0.18682244,  0.16510603,  0.15115944,\n",
       "          0.27068168,  0.11399487, -0.18590993, -0.2870738 ,  0.24739373,\n",
       "         -0.22634986, -0.05105993,  0.11390409, -0.12800321, -0.0865958 ,\n",
       "          0.16077402,  0.0625039 , -0.22172005, -0.25045523,  0.11712378,\n",
       "         -0.17064679, -0.04321727, -0.14738202,  0.28946924, -0.14080422,\n",
       "         -0.0134604 ,  0.22299576,  0.0987452 , -0.09087215],\n",
       "        [-0.27315298, -0.17750812, -0.10998628,  0.11746341,  0.24953866,\n",
       "          0.14736313, -0.2236159 ,  0.22608566, -0.02789041, -0.13307273,\n",
       "          0.02820358,  0.21658057,  0.18898544,  0.24890828,  0.08118525,\n",
       "         -0.23431666,  0.08306804,  0.09962413, -0.11706594,  0.02234009,\n",
       "          0.0938352 , -0.2407828 , -0.27288032, -0.2478686 ,  0.03175503,\n",
       "          0.05334669, -0.08816901,  0.04376578,  0.18162358,  0.2438631 ,\n",
       "         -0.11170946, -0.13438466,  0.11270282, -0.03691587,  0.10863531,\n",
       "         -0.13696152, -0.19326141,  0.07114565, -0.04771879,  0.10411203,\n",
       "         -0.17112453,  0.13027099, -0.2105427 ,  0.00348195, -0.12721796,\n",
       "         -0.03113317, -0.21665254,  0.11802021, -0.00820175,  0.14517412,\n",
       "         -0.25998318,  0.1180703 , -0.02712193, -0.05732602, -0.17360221,\n",
       "         -0.22520965, -0.16154855, -0.00791427,  0.13604221,  0.2667185 ,\n",
       "         -0.27060974,  0.09353527, -0.11810312, -0.11077866]],\n",
       "       dtype=float32)>,\n",
       " <tf.Variable 'dense_2/bias:0' shape=(64,) dtype=float32, numpy=\n",
       " array([0., 0., 0., 0., 0., 0., 0., 0., 0., 0., 0., 0., 0., 0., 0., 0., 0.,\n",
       "        0., 0., 0., 0., 0., 0., 0., 0., 0., 0., 0., 0., 0., 0., 0., 0., 0.,\n",
       "        0., 0., 0., 0., 0., 0., 0., 0., 0., 0., 0., 0., 0., 0., 0., 0., 0.,\n",
       "        0., 0., 0., 0., 0., 0., 0., 0., 0., 0., 0., 0., 0.], dtype=float32)>,\n",
       " <tf.Variable 'dense_3/kernel:0' shape=(64, 10) dtype=float32, numpy=\n",
       " array([[-2.08589852e-01, -2.58435637e-01,  2.83993095e-01,\n",
       "         -1.14331245e-02,  1.33234680e-01,  2.66507655e-01,\n",
       "         -2.31352165e-01,  5.10127842e-02,  2.17660934e-01,\n",
       "         -4.81726527e-02],\n",
       "        [ 6.00017905e-02, -9.20806527e-02, -3.62784266e-02,\n",
       "          1.03557378e-01,  2.48132616e-01,  4.11021411e-02,\n",
       "         -1.22196376e-02, -7.91306198e-02, -9.89714265e-03,\n",
       "          1.43387407e-01],\n",
       "        [ 2.73043245e-01, -2.74506450e-01, -2.41954669e-01,\n",
       "         -1.25888869e-01, -3.01354825e-02,  4.62059677e-02,\n",
       "          1.58147305e-01, -1.19234800e-01,  6.05003536e-02,\n",
       "          8.43204558e-02],\n",
       "        [ 1.10615402e-01, -2.07722962e-01,  1.10095739e-03,\n",
       "         -2.84379900e-01,  2.11090207e-01, -2.62754798e-01,\n",
       "          9.42487717e-02,  1.32491589e-02, -1.25428855e-01,\n",
       "         -2.25556195e-01],\n",
       "        [ 1.11973435e-01, -2.46748865e-01,  1.28424793e-01,\n",
       "          1.83008373e-01,  1.21761829e-01, -5.68923354e-02,\n",
       "         -8.61679316e-02,  2.26975292e-01, -9.17234272e-02,\n",
       "          2.27685064e-01],\n",
       "        [-1.55486941e-01,  1.94780856e-01,  2.35048383e-01,\n",
       "         -1.88407898e-02,  1.93826348e-01, -1.53121829e-01,\n",
       "         -2.28571430e-01,  2.81934828e-01, -2.67615527e-01,\n",
       "          2.18930274e-01],\n",
       "        [-2.01155454e-01,  2.69001722e-02, -5.16975224e-02,\n",
       "          5.23605347e-02,  9.41798091e-03,  1.33531213e-01,\n",
       "         -1.19053602e-01, -8.96010101e-02, -2.24434808e-01,\n",
       "         -2.42727041e-01],\n",
       "        [ 2.66332924e-02,  1.41736209e-01, -4.49493527e-02,\n",
       "          1.32667542e-01, -1.14024237e-01,  1.42542720e-02,\n",
       "         -2.22940505e-01,  6.62151277e-02,  1.57977402e-01,\n",
       "         -2.53767639e-01],\n",
       "        [-1.77599639e-01, -1.70345157e-01, -1.58685401e-01,\n",
       "          5.59032559e-02, -1.90239280e-01, -2.37060964e-01,\n",
       "          1.29859984e-01, -9.28315073e-02, -1.56964749e-01,\n",
       "          1.22121513e-01],\n",
       "        [ 6.01330698e-02, -1.88524067e-01, -8.58346671e-02,\n",
       "          2.32477814e-01, -2.71895915e-01, -1.47752479e-01,\n",
       "          5.93701303e-02, -1.65526241e-01, -7.22874701e-02,\n",
       "          4.41009998e-02],\n",
       "        [ 2.81156272e-01,  2.38273710e-01, -1.12242281e-01,\n",
       "          2.47919172e-01, -2.10063159e-02, -2.82673657e-01,\n",
       "         -1.08496025e-01,  2.81256467e-01,  4.24600542e-02,\n",
       "          7.48143792e-02],\n",
       "        [-1.50464103e-01, -5.92873842e-02,  2.76862770e-01,\n",
       "         -1.86657801e-01,  2.76616663e-01, -1.66556865e-01,\n",
       "          1.35493755e-01, -9.09573734e-02,  4.44405377e-02,\n",
       "          2.71939933e-02],\n",
       "        [ 1.95474416e-01,  4.16946411e-03, -2.00452596e-01,\n",
       "          9.83406305e-02, -1.21079132e-01, -9.74608064e-02,\n",
       "          1.46268308e-02,  2.03902036e-01, -1.06557325e-01,\n",
       "          1.75345302e-01],\n",
       "        [ 2.97120512e-02,  8.74633193e-02, -1.47849321e-03,\n",
       "          1.79206222e-01,  2.27391720e-02,  1.82008415e-01,\n",
       "         -8.50999653e-02, -5.30367792e-02,  2.14090019e-01,\n",
       "          8.73292983e-02],\n",
       "        [ 4.14819121e-02,  2.09208101e-01, -2.96787322e-02,\n",
       "          1.91601634e-01,  1.73026919e-02, -2.20162272e-02,\n",
       "         -9.53823775e-02,  3.68749797e-02,  7.70569444e-02,\n",
       "          2.45040685e-01],\n",
       "        [ 6.41295016e-02,  2.46434659e-01,  1.04406804e-01,\n",
       "          2.00695843e-01,  2.00806826e-01,  2.51559228e-01,\n",
       "          2.04580843e-01,  1.75293922e-01,  1.70045286e-01,\n",
       "         -1.44388780e-01],\n",
       "        [-2.36465022e-01, -1.96337566e-01,  2.47340828e-01,\n",
       "         -1.33708119e-02, -2.14212626e-01, -1.95945561e-01,\n",
       "          6.47360981e-02, -1.66654021e-01, -1.79285944e-01,\n",
       "          5.22430837e-02],\n",
       "        [ 1.07101589e-01, -2.56253481e-01,  1.90785795e-01,\n",
       "         -2.62681216e-01, -1.53170839e-01, -1.30609885e-01,\n",
       "         -2.03742087e-01, -8.53746384e-02, -1.66710839e-01,\n",
       "          1.21937692e-02],\n",
       "        [-1.67970359e-02, -2.39658803e-01, -1.97629765e-01,\n",
       "          8.95119309e-02,  2.55851001e-01, -3.41283083e-02,\n",
       "          1.29078835e-01,  1.35159791e-01, -1.98616937e-01,\n",
       "         -2.06410259e-01],\n",
       "        [ 2.83770412e-01, -9.89733040e-02,  1.97974831e-01,\n",
       "          2.44879931e-01, -6.53508306e-02, -7.56907463e-02,\n",
       "          1.36984050e-01,  1.45563275e-01, -1.20763719e-01,\n",
       "          9.82640088e-02],\n",
       "        [ 1.74748510e-01,  1.34632021e-01, -8.66701752e-02,\n",
       "         -6.42991662e-02,  1.98701948e-01, -9.55342501e-02,\n",
       "          1.54464811e-01,  2.33865410e-01,  1.74670845e-01,\n",
       "          2.04523355e-01],\n",
       "        [ 1.75652385e-01, -9.52023417e-02,  9.12685692e-02,\n",
       "         -1.11638203e-01, -3.98847610e-02, -2.70798087e-01,\n",
       "          3.44000161e-02, -1.97329015e-01,  2.38912970e-01,\n",
       "         -2.30719909e-01],\n",
       "        [-8.11807960e-02,  4.62540388e-02,  1.79171532e-01,\n",
       "         -8.89903307e-03,  1.50370151e-01,  2.40329117e-01,\n",
       "         -9.34214741e-02, -2.70175695e-01, -7.13317245e-02,\n",
       "         -7.06840008e-02],\n",
       "        [-2.37864971e-01,  2.84334153e-01,  1.48938894e-01,\n",
       "         -2.08771229e-02,  1.02905095e-01,  6.28844202e-02,\n",
       "         -1.06363088e-01, -1.88235074e-01,  7.08207190e-02,\n",
       "         -1.01935774e-01],\n",
       "        [ 2.68060535e-01, -1.80486962e-01, -9.45188999e-02,\n",
       "          2.55504161e-01, -1.89879417e-01,  2.02048540e-01,\n",
       "         -8.83067101e-02, -2.11927295e-02, -2.07857996e-01,\n",
       "          2.44089991e-01],\n",
       "        [-2.32120752e-02,  4.64447439e-02,  2.23028332e-01,\n",
       "          4.29274738e-02, -2.17372447e-01,  2.19170123e-01,\n",
       "          2.04000890e-01, -7.63886422e-02,  9.77072120e-03,\n",
       "          5.97009063e-03],\n",
       "        [-1.84511483e-01,  4.72869873e-02, -1.90031558e-01,\n",
       "         -6.29089922e-02, -1.53125837e-01,  2.90224552e-02,\n",
       "          1.88338816e-01, -1.01013780e-01, -1.68208808e-01,\n",
       "          8.18683207e-02],\n",
       "        [ 1.29343480e-01, -1.25981882e-01, -2.44431943e-01,\n",
       "          1.26500696e-01,  6.32121861e-02,  2.55528778e-01,\n",
       "          7.27770925e-02, -1.00081041e-01,  3.13528776e-02,\n",
       "         -1.93185404e-01],\n",
       "        [-1.49171636e-01, -1.99282929e-01,  1.93443328e-01,\n",
       "          1.40650749e-01, -2.23637998e-01, -1.83458194e-01,\n",
       "         -3.31509113e-02,  1.70485079e-02, -2.58552611e-01,\n",
       "         -2.16936797e-01],\n",
       "        [-2.63364911e-02, -2.40220651e-01, -2.11898074e-01,\n",
       "          4.69633639e-02, -2.19157338e-02, -2.68999904e-01,\n",
       "         -1.40516326e-01, -5.77576458e-02, -1.57539770e-01,\n",
       "          1.29324615e-01],\n",
       "        [ 2.33627945e-01, -1.19564831e-02, -1.90988928e-01,\n",
       "          2.40639776e-01, -2.54107237e-01,  1.18086189e-01,\n",
       "          4.70287800e-02, -1.56759799e-01,  1.07797116e-01,\n",
       "         -1.27271846e-01],\n",
       "        [ 1.70534700e-01,  2.57510632e-01,  2.64845043e-01,\n",
       "         -2.34270439e-01, -2.09476531e-01,  7.49337673e-02,\n",
       "         -2.57856339e-01,  1.95032060e-01,  2.53133148e-01,\n",
       "          2.24594623e-01],\n",
       "        [-2.06329674e-01, -8.55895132e-02, -1.96587056e-01,\n",
       "          2.74211794e-01,  1.49584711e-02, -1.34988725e-02,\n",
       "          7.12379813e-03, -1.87525153e-02, -2.64403611e-01,\n",
       "          1.32323861e-01],\n",
       "        [ 8.19989145e-02,  1.60552353e-01,  2.71794498e-02,\n",
       "          1.39351547e-01, -5.85619211e-02,  4.78102565e-02,\n",
       "          2.03937888e-01,  8.40907395e-02, -2.41931379e-01,\n",
       "         -1.36463270e-01],\n",
       "        [-4.20121998e-02, -2.55644292e-01,  2.10072875e-01,\n",
       "          2.75045842e-01,  1.65116072e-01,  4.83812094e-02,\n",
       "          1.73108697e-01,  9.25809145e-03,  2.15040386e-01,\n",
       "         -7.96918571e-02],\n",
       "        [ 5.35428524e-04, -5.60543686e-02, -1.88916951e-01,\n",
       "         -2.38112628e-01, -2.58422494e-02, -4.21950966e-02,\n",
       "          9.59024727e-02, -1.68555185e-01,  8.82734954e-02,\n",
       "          1.52351290e-01],\n",
       "        [ 1.99056268e-02,  1.48542106e-01,  1.62686110e-02,\n",
       "         -4.36754078e-02,  2.40997940e-01,  1.50069535e-01,\n",
       "         -1.46986008e-01,  1.49097294e-01, -2.81010509e-01,\n",
       "         -2.61733204e-01],\n",
       "        [-2.55577773e-01, -2.58626878e-01,  1.89135492e-01,\n",
       "          9.46625471e-02,  1.80946916e-01, -6.82703406e-02,\n",
       "          1.04444027e-02, -1.89962238e-01, -1.78042352e-01,\n",
       "         -1.86272740e-01],\n",
       "        [-1.41948909e-01, -6.72522187e-03, -1.54576555e-01,\n",
       "         -1.36567146e-01, -2.54663169e-01, -3.61729860e-02,\n",
       "          1.66687012e-01,  3.82114947e-02, -9.80919600e-02,\n",
       "          7.83046782e-02],\n",
       "        [-1.35990351e-01,  2.46317059e-01, -1.20959044e-01,\n",
       "         -1.51586577e-01,  1.53917223e-01, -2.60833412e-01,\n",
       "          1.55651033e-01,  2.03357965e-01, -1.43597946e-01,\n",
       "          1.83301717e-01],\n",
       "        [ 4.86747622e-02, -1.50872260e-01,  1.59074545e-01,\n",
       "         -2.02864110e-02, -9.67798680e-02, -7.19012469e-02,\n",
       "          1.69008195e-01,  1.87952101e-01, -9.85079259e-02,\n",
       "         -1.46503255e-01],\n",
       "        [ 1.03381127e-01, -1.19763106e-01,  1.80813640e-01,\n",
       "          1.38584673e-02,  1.52230442e-01,  4.84213233e-02,\n",
       "         -1.22285932e-01, -2.21104622e-02, -2.72955865e-01,\n",
       "         -1.68783963e-01],\n",
       "        [ 6.14822507e-02, -2.55231559e-02, -1.39544353e-01,\n",
       "          1.12260967e-01, -2.69645005e-01, -2.46211320e-01,\n",
       "          2.76148587e-01,  2.32350498e-01, -1.20014846e-02,\n",
       "          2.14530826e-01],\n",
       "        [-2.06653237e-01, -1.11547709e-02, -8.82576853e-02,\n",
       "         -1.28277004e-01, -9.32366699e-02,  1.79622948e-01,\n",
       "          2.14092791e-01,  1.68236852e-01,  1.24203533e-01,\n",
       "         -6.60587847e-02],\n",
       "        [ 4.14389372e-03, -2.39069387e-01,  2.73956507e-01,\n",
       "          1.39175504e-01,  1.49294049e-01,  2.82946914e-01,\n",
       "          2.25365430e-01, -2.88206041e-02,  4.77164984e-02,\n",
       "         -1.30999967e-01],\n",
       "        [ 2.55121559e-01,  1.48414969e-02,  1.61721677e-01,\n",
       "          2.32104152e-01, -1.86771154e-04,  1.93360776e-01,\n",
       "         -1.56228229e-01, -2.65652984e-01,  2.66530603e-01,\n",
       "         -7.63505548e-02],\n",
       "        [-1.12953782e-02,  4.36079502e-03,  1.63836896e-01,\n",
       "         -1.33812472e-01, -3.78298908e-02, -1.89028978e-02,\n",
       "          4.71106768e-02, -1.18267849e-01, -1.33977175e-01,\n",
       "         -2.31904179e-01],\n",
       "        [-1.28901452e-01, -2.14476854e-01,  2.08929181e-02,\n",
       "         -1.63188696e-01,  4.62127626e-02, -2.79188097e-01,\n",
       "         -7.72253722e-02, -2.13432983e-01, -6.95677549e-02,\n",
       "          1.60184503e-03],\n",
       "        [ 1.96369737e-01,  3.03727686e-02, -1.06213674e-01,\n",
       "          5.69589138e-02, -1.54340506e-01, -1.31705940e-01,\n",
       "         -7.36609101e-03, -1.20802686e-01, -1.81460217e-01,\n",
       "          2.59796411e-01],\n",
       "        [ 3.04470956e-02,  2.35351592e-01,  8.63250792e-02,\n",
       "         -1.07755572e-01, -1.19161606e-01,  1.35167807e-01,\n",
       "          1.14906937e-01,  2.79162496e-01, -2.87600458e-02,\n",
       "          3.53882611e-02],\n",
       "        [-6.64200187e-02, -1.81766599e-01,  1.24387920e-01,\n",
       "          1.56287223e-01,  1.79206908e-01,  2.23458081e-01,\n",
       "          1.67150497e-01,  2.39466697e-01,  4.08914089e-02,\n",
       "          2.29737133e-01],\n",
       "        [ 8.56611133e-03, -6.42534047e-02, -2.83381134e-01,\n",
       "          2.20440716e-01, -1.19597316e-01,  1.00701213e-01,\n",
       "         -1.18089169e-01, -2.33921230e-01,  1.67852193e-01,\n",
       "          2.38436133e-01],\n",
       "        [ 2.34805793e-01, -1.91870734e-01,  1.49891526e-01,\n",
       "         -2.70090401e-01, -5.38828820e-02,  1.85248166e-01,\n",
       "          9.60464776e-02, -1.06345102e-01,  2.53505617e-01,\n",
       "         -2.55562961e-01],\n",
       "        [ 1.42645717e-01, -5.02483696e-02,  1.43160611e-01,\n",
       "         -6.13768101e-02, -2.68628299e-02, -8.34476799e-02,\n",
       "         -3.36965919e-02,  9.88923013e-02, -7.47609138e-03,\n",
       "         -2.48936415e-02],\n",
       "        [ 1.63119853e-01,  2.32344866e-02, -2.46038064e-01,\n",
       "         -2.53744274e-01, -1.69284165e-01,  2.60104746e-01,\n",
       "         -9.78549570e-02,  9.15423036e-03,  5.01447916e-03,\n",
       "          7.61469603e-02],\n",
       "        [ 2.06015348e-01,  7.72858560e-02, -2.34259039e-01,\n",
       "         -1.80501342e-01, -2.72394776e-01,  7.94800520e-02,\n",
       "         -2.49599665e-01, -1.30442187e-01, -1.55360609e-01,\n",
       "         -1.43671632e-02],\n",
       "        [-1.42079875e-01, -7.57943392e-02,  2.79921502e-01,\n",
       "          2.48966068e-01, -2.26221442e-01, -1.81049421e-01,\n",
       "          2.62636811e-01, -6.88600242e-02,  9.95362401e-02,\n",
       "          1.71199262e-01],\n",
       "        [ 6.97103143e-02, -2.44198740e-01,  1.10706776e-01,\n",
       "          2.71011204e-01, -1.03824183e-01, -1.28794998e-01,\n",
       "         -1.04167566e-01,  2.64778823e-01,  8.83413255e-02,\n",
       "         -2.03914672e-01],\n",
       "        [-1.11983716e-02,  1.33288294e-01, -1.32643223e-01,\n",
       "         -2.65658557e-01, -7.38771558e-02, -1.25567213e-01,\n",
       "         -2.75076061e-01, -8.64865333e-02, -1.17052972e-01,\n",
       "          2.14174122e-01],\n",
       "        [-1.21047974e-01, -7.58506209e-02,  8.44764709e-02,\n",
       "         -1.35246769e-01,  8.97849202e-02,  9.67541337e-03,\n",
       "         -7.84135014e-02, -1.10872149e-01,  1.66803837e-01,\n",
       "          2.02200800e-01],\n",
       "        [-1.08856112e-01,  1.22101903e-02,  1.44907117e-01,\n",
       "          6.55767322e-03, -2.38654181e-01,  6.59143031e-02,\n",
       "         -2.33416200e-01,  1.43263042e-01, -2.37204075e-01,\n",
       "         -1.74360573e-01],\n",
       "        [-1.39639392e-01,  1.99154824e-01,  2.17156500e-01,\n",
       "          2.14485526e-01,  2.07504839e-01, -8.82621706e-02,\n",
       "         -1.18285224e-01, -1.41807020e-01,  9.06348228e-02,\n",
       "         -1.71098709e-01],\n",
       "        [ 9.07002687e-02, -2.53210008e-01,  1.64086252e-01,\n",
       "         -2.33266294e-01, -2.27153361e-01, -2.79477835e-01,\n",
       "          1.13220632e-01, -1.95783973e-02,  3.44943702e-02,\n",
       "         -1.02275014e-01],\n",
       "        [-1.68825790e-01, -8.78420025e-02, -2.22753271e-01,\n",
       "         -2.36598760e-01,  2.24936038e-01,  1.84697837e-01,\n",
       "         -1.34525597e-02,  4.98677194e-02,  1.30746067e-02,\n",
       "          1.33653611e-01]], dtype=float32)>,\n",
       " <tf.Variable 'dense_3/bias:0' shape=(10,) dtype=float32, numpy=array([0., 0., 0., 0., 0., 0., 0., 0., 0., 0.], dtype=float32)>]"
      ]
     },
     "execution_count": 4,
     "metadata": {},
     "output_type": "execute_result"
    }
   ],
   "source": [
    "model.build(input_shape=(None, 3))\n",
    "model.weights"
   ]
  },
  {
   "cell_type": "markdown",
   "metadata": {
    "colab_type": "text"
   },
   "source": [
    "**The summary method**"
   ]
  },
  {
   "cell_type": "code",
   "execution_count": 5,
   "metadata": {
    "colab_type": "code"
   },
   "outputs": [
    {
     "name": "stdout",
     "output_type": "stream",
     "text": [
      "Model: \"sequential_1\"\n",
      "_________________________________________________________________\n",
      "Layer (type)                 Output Shape              Param #   \n",
      "=================================================================\n",
      "dense_2 (Dense)              (None, 64)                256       \n",
      "_________________________________________________________________\n",
      "dense_3 (Dense)              (None, 10)                650       \n",
      "=================================================================\n",
      "Total params: 906\n",
      "Trainable params: 906\n",
      "Non-trainable params: 0\n",
      "_________________________________________________________________\n"
     ]
    }
   ],
   "source": [
    "model.summary()"
   ]
  },
  {
   "cell_type": "markdown",
   "metadata": {
    "colab_type": "text"
   },
   "source": [
    "**Naming models and layers with the `name` argument**"
   ]
  },
  {
   "cell_type": "code",
   "execution_count": 6,
   "metadata": {
    "colab_type": "code"
   },
   "outputs": [
    {
     "name": "stdout",
     "output_type": "stream",
     "text": [
      "Model: \"my_example_model\"\n",
      "_________________________________________________________________\n",
      "Layer (type)                 Output Shape              Param #   \n",
      "=================================================================\n",
      "my_first_layer (Dense)       (None, 64)                256       \n",
      "_________________________________________________________________\n",
      "my_last_layer (Dense)        (None, 10)                650       \n",
      "=================================================================\n",
      "Total params: 906\n",
      "Trainable params: 906\n",
      "Non-trainable params: 0\n",
      "_________________________________________________________________\n"
     ]
    }
   ],
   "source": [
    "model = keras.Sequential(name=\"my_example_model\")\n",
    "model.add(layers.Dense(64, activation=\"relu\", name=\"my_first_layer\"))\n",
    "model.add(layers.Dense(10, activation=\"softmax\", name=\"my_last_layer\"))\n",
    "model.build((None, 3))\n",
    "model.summary()"
   ]
  },
  {
   "cell_type": "markdown",
   "metadata": {
    "colab_type": "text"
   },
   "source": [
    "**Specifying the input shape of your model in advance**"
   ]
  },
  {
   "cell_type": "code",
   "execution_count": 7,
   "metadata": {
    "colab_type": "code"
   },
   "outputs": [],
   "source": [
    "model = keras.Sequential()\n",
    "model.add(keras.Input(shape=(3,)))\n",
    "model.add(layers.Dense(64, activation=\"relu\"))"
   ]
  },
  {
   "cell_type": "code",
   "execution_count": 8,
   "metadata": {
    "colab_type": "code"
   },
   "outputs": [
    {
     "name": "stdout",
     "output_type": "stream",
     "text": [
      "Model: \"sequential_2\"\n",
      "_________________________________________________________________\n",
      "Layer (type)                 Output Shape              Param #   \n",
      "=================================================================\n",
      "dense_4 (Dense)              (None, 64)                256       \n",
      "=================================================================\n",
      "Total params: 256\n",
      "Trainable params: 256\n",
      "Non-trainable params: 0\n",
      "_________________________________________________________________\n"
     ]
    }
   ],
   "source": [
    "model.summary()"
   ]
  },
  {
   "cell_type": "code",
   "execution_count": 9,
   "metadata": {
    "colab_type": "code"
   },
   "outputs": [
    {
     "name": "stdout",
     "output_type": "stream",
     "text": [
      "Model: \"sequential_2\"\n",
      "_________________________________________________________________\n",
      "Layer (type)                 Output Shape              Param #   \n",
      "=================================================================\n",
      "dense_4 (Dense)              (None, 64)                256       \n",
      "_________________________________________________________________\n",
      "dense_5 (Dense)              (None, 10)                650       \n",
      "=================================================================\n",
      "Total params: 906\n",
      "Trainable params: 906\n",
      "Non-trainable params: 0\n",
      "_________________________________________________________________\n"
     ]
    }
   ],
   "source": [
    "model.add(layers.Dense(10, activation=\"softmax\"))\n",
    "model.summary()"
   ]
  },
  {
   "cell_type": "markdown",
   "metadata": {
    "colab_type": "text"
   },
   "source": [
    "### The Functional API"
   ]
  },
  {
   "cell_type": "markdown",
   "metadata": {
    "colab_type": "text"
   },
   "source": [
    "#### A simple example"
   ]
  },
  {
   "cell_type": "markdown",
   "metadata": {
    "colab_type": "text"
   },
   "source": [
    "**A simple Functional model with two `Dense` layers**"
   ]
  },
  {
   "cell_type": "code",
   "execution_count": 10,
   "metadata": {
    "colab_type": "code"
   },
   "outputs": [],
   "source": [
    "inputs = keras.Input(shape=(3,), name=\"my_input\")\n",
    "features = layers.Dense(64, activation=\"relu\")(inputs)\n",
    "outputs = layers.Dense(10, activation=\"softmax\")(features)\n",
    "model = keras.Model(inputs=inputs, outputs=outputs) # Use Model API - Model groups layers into an object with training and inference features."
   ]
  },
  {
   "cell_type": "code",
   "execution_count": 11,
   "metadata": {
    "colab_type": "code"
   },
   "outputs": [],
   "source": [
    "inputs = keras.Input(shape=(3,), name=\"my_input\")"
   ]
  },
  {
   "cell_type": "code",
   "execution_count": 12,
   "metadata": {
    "colab_type": "code"
   },
   "outputs": [
    {
     "data": {
      "text/plain": [
       "TensorShape([None, 3])"
      ]
     },
     "execution_count": 12,
     "metadata": {},
     "output_type": "execute_result"
    }
   ],
   "source": [
    "inputs.shape"
   ]
  },
  {
   "cell_type": "code",
   "execution_count": 13,
   "metadata": {
    "colab_type": "code"
   },
   "outputs": [
    {
     "data": {
      "text/plain": [
       "tf.float32"
      ]
     },
     "execution_count": 13,
     "metadata": {},
     "output_type": "execute_result"
    }
   ],
   "source": [
    "inputs.dtype"
   ]
  },
  {
   "cell_type": "code",
   "execution_count": 14,
   "metadata": {
    "colab_type": "code"
   },
   "outputs": [],
   "source": [
    "features = layers.Dense(64, activation=\"relu\")(inputs)"
   ]
  },
  {
   "cell_type": "code",
   "execution_count": 15,
   "metadata": {
    "colab_type": "code"
   },
   "outputs": [
    {
     "data": {
      "text/plain": [
       "TensorShape([None, 64])"
      ]
     },
     "execution_count": 15,
     "metadata": {},
     "output_type": "execute_result"
    }
   ],
   "source": [
    "features.shape"
   ]
  },
  {
   "cell_type": "code",
   "execution_count": 16,
   "metadata": {
    "colab_type": "code"
   },
   "outputs": [],
   "source": [
    "outputs = layers.Dense(10, activation=\"softmax\")(features)\n",
    "model = keras.Model(inputs=inputs, outputs=outputs)"
   ]
  },
  {
   "cell_type": "code",
   "execution_count": 17,
   "metadata": {
    "colab_type": "code"
   },
   "outputs": [
    {
     "name": "stdout",
     "output_type": "stream",
     "text": [
      "Model: \"model_1\"\n",
      "_________________________________________________________________\n",
      "Layer (type)                 Output Shape              Param #   \n",
      "=================================================================\n",
      "my_input (InputLayer)        [(None, 3)]               0         \n",
      "_________________________________________________________________\n",
      "dense_8 (Dense)              (None, 64)                256       \n",
      "_________________________________________________________________\n",
      "dense_9 (Dense)              (None, 10)                650       \n",
      "=================================================================\n",
      "Total params: 906\n",
      "Trainable params: 906\n",
      "Non-trainable params: 0\n",
      "_________________________________________________________________\n"
     ]
    }
   ],
   "source": [
    "model.summary()"
   ]
  },
  {
   "cell_type": "markdown",
   "metadata": {
    "colab_type": "text"
   },
   "source": [
    "#### Multi-input, multi-output models"
   ]
  },
  {
   "cell_type": "markdown",
   "metadata": {
    "colab_type": "text"
   },
   "source": [
    "**A multi-input, multi-output Functional model**"
   ]
  },
  {
   "cell_type": "code",
   "execution_count": 18,
   "metadata": {
    "colab_type": "code"
   },
   "outputs": [],
   "source": [
    "vocabulary_size = 10000\n",
    "num_tags = 100\n",
    "num_departments = 4\n",
    "\n",
    "title = keras.Input(shape=(vocabulary_size,), name=\"title\")\n",
    "text_body = keras.Input(shape=(vocabulary_size,), name=\"text_body\")\n",
    "tags = keras.Input(shape=(num_tags,), name=\"tags\")\n",
    "\n",
    "features = layers.Concatenate()([title, text_body, tags])\n",
    "features = layers.Dense(64, activation=\"relu\")(features)\n",
    "\n",
    "priority = layers.Dense(1, activation=\"sigmoid\", name=\"priority\")(features)\n",
    "department = layers.Dense(\n",
    "    num_departments, activation=\"softmax\", name=\"department\")(features)\n",
    "\n",
    "model = keras.Model(inputs=[title, text_body, tags], outputs=[priority, department])"
   ]
  },
  {
   "cell_type": "code",
   "execution_count": 19,
   "metadata": {},
   "outputs": [
    {
     "name": "stdout",
     "output_type": "stream",
     "text": [
      "Model: \"model_2\"\n",
      "__________________________________________________________________________________________________\n",
      "Layer (type)                    Output Shape         Param #     Connected to                     \n",
      "==================================================================================================\n",
      "title (InputLayer)              [(None, 10000)]      0                                            \n",
      "__________________________________________________________________________________________________\n",
      "text_body (InputLayer)          [(None, 10000)]      0                                            \n",
      "__________________________________________________________________________________________________\n",
      "tags (InputLayer)               [(None, 100)]        0                                            \n",
      "__________________________________________________________________________________________________\n",
      "concatenate (Concatenate)       (None, 20100)        0           title[0][0]                      \n",
      "                                                                 text_body[0][0]                  \n",
      "                                                                 tags[0][0]                       \n",
      "__________________________________________________________________________________________________\n",
      "dense_10 (Dense)                (None, 64)           1286464     concatenate[0][0]                \n",
      "__________________________________________________________________________________________________\n",
      "priority (Dense)                (None, 1)            65          dense_10[0][0]                   \n",
      "__________________________________________________________________________________________________\n",
      "department (Dense)              (None, 4)            260         dense_10[0][0]                   \n",
      "==================================================================================================\n",
      "Total params: 1,286,789\n",
      "Trainable params: 1,286,789\n",
      "Non-trainable params: 0\n",
      "__________________________________________________________________________________________________\n"
     ]
    }
   ],
   "source": [
    "model.summary()"
   ]
  },
  {
   "cell_type": "markdown",
   "metadata": {
    "colab_type": "text"
   },
   "source": [
    "#### Training a multi-input, multi-output model"
   ]
  },
  {
   "cell_type": "markdown",
   "metadata": {
    "colab_type": "text"
   },
   "source": [
    "**Training a model by providing lists of input & target arrays**"
   ]
  },
  {
   "cell_type": "code",
   "execution_count": 20,
   "metadata": {},
   "outputs": [
    {
     "data": {
      "text/plain": [
       "array([[0, 1, 0, 0, 1, 0, 0, 1, 0, 0],\n",
       "       [1, 1, 1, 1, 1, 0, 1, 1, 1, 1],\n",
       "       [1, 1, 0, 1, 1, 0, 1, 0, 0, 0]])"
      ]
     },
     "execution_count": 20,
     "metadata": {},
     "output_type": "execute_result"
    }
   ],
   "source": [
    "import numpy as np\n",
    "np.random.randint(0, 2, size=(3, 10))"
   ]
  },
  {
   "cell_type": "code",
   "execution_count": 21,
   "metadata": {
    "colab_type": "code"
   },
   "outputs": [
    {
     "name": "stdout",
     "output_type": "stream",
     "text": [
      "40/40 [==============================] - 1s 7ms/step - loss: 24.3463 - priority_loss: 0.3415 - department_loss: 24.0048 - priority_mean_absolute_error: 0.5067 - department_accuracy: 0.2438\n",
      "40/40 [==============================] - 0s 3ms/step - loss: 26.2828 - priority_loss: 0.3451 - department_loss: 25.9377 - priority_mean_absolute_error: 0.5104 - department_accuracy: 0.0547\n"
     ]
    }
   ],
   "source": [
    "import numpy as np\n",
    "\n",
    "num_samples = 1280\n",
    "\n",
    "title_data = np.random.randint(0, 2, size=(num_samples, vocabulary_size))\n",
    "text_body_data = np.random.randint(0, 2, size=(num_samples, vocabulary_size))\n",
    "tags_data = np.random.randint(0, 2, size=(num_samples, num_tags))\n",
    "\n",
    "priority_data = np.random.random(size=(num_samples, 1))\n",
    "department_data = np.random.randint(0, 2, size=(num_samples, num_departments))\n",
    "\n",
    "model.compile(optimizer=\"rmsprop\",\n",
    "              loss=[\"mean_squared_error\", \"categorical_crossentropy\"],\n",
    "              metrics=[[\"mean_absolute_error\"], [\"accuracy\"]])\n",
    "model.fit([title_data, text_body_data, tags_data],\n",
    "          [priority_data, department_data],\n",
    "          epochs=1)\n",
    "model.evaluate([title_data, text_body_data, tags_data],\n",
    "               [priority_data, department_data])\n",
    "priority_preds, department_preds = model.predict([title_data, text_body_data, tags_data])"
   ]
  },
  {
   "cell_type": "markdown",
   "metadata": {
    "colab_type": "text"
   },
   "source": [
    "**Training a model by providing dicts of input & target arrays**"
   ]
  },
  {
   "cell_type": "code",
   "execution_count": 22,
   "metadata": {
    "colab_type": "code"
   },
   "outputs": [
    {
     "name": "stdout",
     "output_type": "stream",
     "text": [
      "40/40 [==============================] - 1s 7ms/step - loss: 34.3365 - priority_loss: 0.3451 - department_loss: 33.9915 - priority_mean_absolute_error: 0.5104 - department_accuracy: 0.2672\n",
      "40/40 [==============================] - 0s 3ms/step - loss: 29.8365 - priority_loss: 0.3451 - department_loss: 29.4914 - priority_mean_absolute_error: 0.5104 - department_accuracy: 0.1187\n"
     ]
    }
   ],
   "source": [
    "model.compile(optimizer=\"rmsprop\",\n",
    "              loss={\"priority\": \"mean_squared_error\", \"department\": \"categorical_crossentropy\"},\n",
    "              metrics={\"priority\": [\"mean_absolute_error\"], \"department\": [\"accuracy\"]})\n",
    "model.fit({\"title\": title_data, \"text_body\": text_body_data, \"tags\": tags_data},\n",
    "          {\"priority\": priority_data, \"department\": department_data},\n",
    "          epochs=1)\n",
    "model.evaluate({\"title\": title_data, \"text_body\": text_body_data, \"tags\": tags_data},\n",
    "               {\"priority\": priority_data, \"department\": department_data})\n",
    "priority_preds, department_preds = model.predict(\n",
    "    {\"title\": title_data, \"text_body\": text_body_data, \"tags\": tags_data})"
   ]
  },
  {
   "cell_type": "markdown",
   "metadata": {
    "colab_type": "text",
    "tags": []
   },
   "source": [
    "#### The power of the Functional API: Access to layer connectivity"
   ]
  },
  {
   "cell_type": "code",
   "execution_count": 25,
   "metadata": {
    "colab_type": "code"
   },
   "outputs": [
    {
     "data": {
      "image/png": "[encoded data removed]",
      "text/plain": [
       "<IPython.core.display.Image object>"
      ]
     },
     "execution_count": 25,
     "metadata": {},
     "output_type": "execute_result"
    }
   ],
   "source": [
    "keras.utils.plot_model(model, \"ticket_classifier.png\")"
   ]
  },
  {
   "cell_type": "code",
   "execution_count": 26,
   "metadata": {
    "colab_type": "code",
    "tags": []
   },
   "outputs": [
    {
     "data": {
      "image/png": "[encoded data removed]",
      "text/plain": [
       "<IPython.core.display.Image object>"
      ]
     },
     "execution_count": 26,
     "metadata": {},
     "output_type": "execute_result"
    }
   ],
   "source": [
    "keras.utils.plot_model(model, \"ticket_classifier_with_shape_info.png\", show_shapes=True)"
   ]
  },
  {
   "cell_type": "code",
   "execution_count": null,
   "metadata": {},
   "outputs": [],
   "source": []
  },
  {
   "cell_type": "markdown",
   "metadata": {
    "colab_type": "text"
   },
   "source": [
    "**Retrieving the inputs or outputs of a layer in a Functional model**"
   ]
  },
  {
   "cell_type": "code",
   "execution_count": 27,
   "metadata": {
    "colab_type": "code"
   },
   "outputs": [
    {
     "data": {
      "text/plain": [
       "[<keras.engine.input_layer.InputLayer at 0x7fea860c2400>,\n",
       " <keras.engine.input_layer.InputLayer at 0x7fea860c2b00>,\n",
       " <keras.engine.input_layer.InputLayer at 0x7fea860c2a90>,\n",
       " <keras.layers.merge.Concatenate at 0x7fea860c2e10>,\n",
       " <keras.layers.core.Dense at 0x7fea860f6160>,\n",
       " <keras.layers.core.Dense at 0x7fea860f62b0>,\n",
       " <keras.layers.core.Dense at 0x7fea860f6d30>]"
      ]
     },
     "execution_count": 27,
     "metadata": {},
     "output_type": "execute_result"
    }
   ],
   "source": [
    "model.layers"
   ]
  },
  {
   "cell_type": "code",
   "execution_count": 28,
   "metadata": {
    "colab_type": "code"
   },
   "outputs": [
    {
     "data": {
      "text/plain": [
       "[<KerasTensor: shape=(None, 10000) dtype=float32 (created by layer 'title')>,\n",
       " <KerasTensor: shape=(None, 10000) dtype=float32 (created by layer 'text_body')>,\n",
       " <KerasTensor: shape=(None, 100) dtype=float32 (created by layer 'tags')>]"
      ]
     },
     "execution_count": 28,
     "metadata": {},
     "output_type": "execute_result"
    }
   ],
   "source": [
    "model.layers[3].input"
   ]
  },
  {
   "cell_type": "code",
   "execution_count": 29,
   "metadata": {
    "colab_type": "code"
   },
   "outputs": [
    {
     "data": {
      "text/plain": [
       "<KerasTensor: shape=(None, 20100) dtype=float32 (created by layer 'concatenate')>"
      ]
     },
     "execution_count": 29,
     "metadata": {},
     "output_type": "execute_result"
    }
   ],
   "source": [
    "model.layers[3].output"
   ]
  },
  {
   "cell_type": "markdown",
   "metadata": {
    "colab_type": "text"
   },
   "source": [
    "**Creating a new model by reusing intermediate layer outputs**"
   ]
  },
  {
   "cell_type": "code",
   "execution_count": 30,
   "metadata": {
    "colab_type": "code"
   },
   "outputs": [],
   "source": [
    "features = model.layers[4].output\n",
    "difficulty = layers.Dense(3, activation=\"softmax\", name=\"difficulty\")(features)\n",
    "\n",
    "new_model = keras.Model(\n",
    "    inputs=[title, text_body, tags],\n",
    "    outputs=[priority, department, difficulty])"
   ]
  },
  {
   "cell_type": "code",
   "execution_count": 31,
   "metadata": {
    "colab_type": "code"
   },
   "outputs": [
    {
     "data": {
      "image/png": "[encoded data removed]",
      "text/plain": [
       "<IPython.core.display.Image object>"
      ]
     },
     "execution_count": 31,
     "metadata": {},
     "output_type": "execute_result"
    }
   ],
   "source": [
    "keras.utils.plot_model(new_model, \"updated_ticket_classifier.png\", show_shapes=True)"
   ]
  },
  {
   "cell_type": "markdown",
   "metadata": {
    "colab_type": "text"
   },
   "source": [
    "### Subclassing the Model class"
   ]
  },
  {
   "cell_type": "markdown",
   "metadata": {
    "colab_type": "text"
   },
   "source": [
    "#### Rewriting our previous example as a subclassed model"
   ]
  },
  {
   "cell_type": "markdown",
   "metadata": {
    "colab_type": "text"
   },
   "source": [
    "**A simple subclassed model**"
   ]
  },
  {
   "cell_type": "code",
   "execution_count": 34,
   "metadata": {},
   "outputs": [],
   "source": [
    "# inputs['title']"
   ]
  },
  {
   "cell_type": "code",
   "execution_count": 35,
   "metadata": {
    "colab_type": "code"
   },
   "outputs": [],
   "source": [
    "class CustomerTicketModel(keras.Model):\n",
    "\n",
    "    def __init__(self, num_departments):\n",
    "        \"\"\" Defines the layers that\n",
    "            the model will use\n",
    "        \"\"\"\n",
    "        super().__init__() # call super() constructor\n",
    "        \n",
    "        # Below code defines the sublayers in the constructor\n",
    "        self.concat_layer = layers.Concatenate()\n",
    "        self.mixing_layer = layers.Dense(64, activation=\"relu\")\n",
    "        self.priority_scorer = layers.Dense(1, activation=\"sigmoid\")\n",
    "        self.department_classifier = layers.Dense(\n",
    "            num_departments, activation=\"softmax\")\n",
    "\n",
    "    def call(self, inputs):\n",
    "        \"\"\" Define the forward pass of the model. \n",
    "            Reuse the layers previously created!!\n",
    "        \"\"\"\n",
    "        title = inputs[\"title\"]\n",
    "        text_body = inputs[\"text_body\"]\n",
    "        tags = inputs[\"tags\"]\n",
    "\n",
    "        features = self.concat_layer([title, text_body, tags])\n",
    "        features = self.mixing_layer(features)\n",
    "        priority = self.priority_scorer(features)\n",
    "        department = self.department_classifier(features)\n",
    "        return priority, department"
   ]
  },
  {
   "cell_type": "code",
   "execution_count": 36,
   "metadata": {
    "colab_type": "code"
   },
   "outputs": [],
   "source": [
    "model = CustomerTicketModel(num_departments=4)\n",
    "\n",
    "inputs_dictionary = {\"title\": title_data, \"text_body\": text_body_data, \"tags\": tags_data}\n",
    "\n",
    "priority, department = model(inputs_dictionary)"
   ]
  },
  {
   "cell_type": "code",
   "execution_count": 37,
   "metadata": {
    "colab_type": "code"
   },
   "outputs": [
    {
     "name": "stdout",
     "output_type": "stream",
     "text": [
      "40/40 [==============================] - 1s 8ms/step - loss: 18.1047 - output_1_loss: 0.3199 - output_2_loss: 17.7848 - output_1_mean_absolute_error: 0.4854 - output_2_accuracy: 0.1773\n",
      "40/40 [==============================] - 0s 3ms/step - loss: 8.2679 - output_1_loss: 0.3242 - output_2_loss: 7.9437 - output_1_mean_absolute_error: 0.4896 - output_2_accuracy: 0.2000\n"
     ]
    }
   ],
   "source": [
    "# structure of what you pass to loss and metrics must match what gets returned in call() method\n",
    "model.compile(optimizer=\"rmsprop\",\n",
    "              loss=[\"mean_squared_error\", \"categorical_crossentropy\"],\n",
    "              metrics=[[\"mean_absolute_error\"], [\"accuracy\"]])\n",
    "model.fit(inputs_dictionary,\n",
    "          [priority_data, department_data],\n",
    "          epochs=1)\n",
    "model.evaluate(inputs_dictionary,\n",
    "               [priority_data, department_data])\n",
    "priority_preds, department_preds = model.predict(inputs_dictionary)"
   ]
  },
  {
   "cell_type": "markdown",
   "metadata": {
    "colab_type": "text"
   },
   "source": [
    "#### Beware: What subclassed models don't support"
   ]
  },
  {
   "cell_type": "markdown",
   "metadata": {
    "colab_type": "text"
   },
   "source": [
    "### Mixing and matching different components"
   ]
  },
  {
   "cell_type": "markdown",
   "metadata": {
    "colab_type": "text"
   },
   "source": [
    "**Creating a Functional model that includes a subclassed model**"
   ]
  },
  {
   "cell_type": "code",
   "execution_count": 38,
   "metadata": {
    "colab_type": "code"
   },
   "outputs": [],
   "source": [
    "class Classifier(keras.Model):\n",
    "\n",
    "    def __init__(self, num_classes=2):\n",
    "        super().__init__()\n",
    "        if num_classes == 2:\n",
    "            num_units = 1\n",
    "            activation = \"sigmoid\"\n",
    "        else:\n",
    "            num_units = num_classes\n",
    "            activation = \"softmax\"\n",
    "        self.dense = layers.Dense(num_units, activation=activation)\n",
    "\n",
    "    def call(self, inputs):\n",
    "        return self.dense(inputs)\n",
    "\n",
    "inputs = keras.Input(shape=(3,))\n",
    "features = layers.Dense(64, activation=\"relu\")(inputs)\n",
    "outputs = Classifier(num_classes=10)(features)\n",
    "model = keras.Model(inputs=inputs, outputs=outputs)"
   ]
  },
  {
   "cell_type": "code",
   "execution_count": 39,
   "metadata": {},
   "outputs": [
    {
     "name": "stdout",
     "output_type": "stream",
     "text": [
      "Model: \"model_4\"\n",
      "_________________________________________________________________\n",
      "Layer (type)                 Output Shape              Param #   \n",
      "=================================================================\n",
      "input_2 (InputLayer)         [(None, 3)]               0         \n",
      "_________________________________________________________________\n",
      "dense_14 (Dense)             (None, 64)                256       \n",
      "_________________________________________________________________\n",
      "classifier (Classifier)      (None, 10)                650       \n",
      "=================================================================\n",
      "Total params: 906\n",
      "Trainable params: 906\n",
      "Non-trainable params: 0\n",
      "_________________________________________________________________\n"
     ]
    }
   ],
   "source": [
    "model.summary()"
   ]
  },
  {
   "cell_type": "markdown",
   "metadata": {
    "colab_type": "text"
   },
   "source": [
    "**Creating a subclassed model that includes a Functional model**"
   ]
  },
  {
   "cell_type": "code",
   "execution_count": 40,
   "metadata": {
    "colab_type": "code"
   },
   "outputs": [],
   "source": [
    "inputs = keras.Input(shape=(64,))\n",
    "outputs = layers.Dense(1, activation=\"sigmoid\")(inputs)\n",
    "binary_classifier = keras.Model(inputs=inputs, outputs=outputs)\n",
    "\n",
    "class MyModel(keras.Model):\n",
    "\n",
    "    def __init__(self, num_classes=2):\n",
    "        super().__init__()\n",
    "        self.dense = layers.Dense(64, activation=\"relu\")\n",
    "        self.classifier = binary_classifier\n",
    "\n",
    "    def call(self, inputs):\n",
    "        features = self.dense(inputs)\n",
    "        return self.classifier(features)\n",
    "\n",
    "model = MyModel()"
   ]
  },
  {
   "cell_type": "code",
   "execution_count": 42,
   "metadata": {},
   "outputs": [],
   "source": [
    "# model.summary() # will not work because model sublcassing does not support this!"
   ]
  },
  {
   "cell_type": "markdown",
   "metadata": {
    "colab_type": "text"
   },
   "source": [
    "### Remember: Use the right tool for the job"
   ]
  },
  {
   "cell_type": "markdown",
   "metadata": {
    "colab_type": "text"
   },
   "source": [
    "## Using built-in training and evaluation loops"
   ]
  },
  {
   "cell_type": "markdown",
   "metadata": {
    "colab_type": "text"
   },
   "source": [
    "**The standard workflow: `compile()`, `fit()`, `evaluate()`, `predict()`**"
   ]
  },
  {
   "cell_type": "code",
   "execution_count": 43,
   "metadata": {
    "colab_type": "code"
   },
   "outputs": [
    {
     "name": "stdout",
     "output_type": "stream",
     "text": [
      "Epoch 1/3\n",
      "1563/1563 [==============================] - 4s 3ms/step - loss: 0.2930 - accuracy: 0.9129 - val_loss: 0.1483 - val_accuracy: 0.9578\n",
      "Epoch 2/3\n",
      "1563/1563 [==============================] - 4s 3ms/step - loss: 0.1624 - accuracy: 0.9539 - val_loss: 0.1210 - val_accuracy: 0.9680\n",
      "Epoch 3/3\n",
      "1563/1563 [==============================] - 4s 3ms/step - loss: 0.1362 - accuracy: 0.9637 - val_loss: 0.1254 - val_accuracy: 0.9702\n",
      "313/313 [==============================] - 0s 791us/step - loss: 0.1139 - accuracy: 0.9724\n"
     ]
    }
   ],
   "source": [
    "from tensorflow.keras.datasets import mnist\n",
    "\n",
    "def get_mnist_model():\n",
    "    inputs = keras.Input(shape=(28 * 28,))\n",
    "    features = layers.Dense(512, activation=\"relu\")(inputs)\n",
    "    features = layers.Dropout(0.5)(features)\n",
    "    outputs = layers.Dense(10, activation=\"softmax\")(features)\n",
    "    model = keras.Model(inputs, outputs)\n",
    "    return model\n",
    "\n",
    "(images, labels), (test_images, test_labels) = mnist.load_data()\n",
    "images = images.reshape((60000, 28 * 28)).astype(\"float32\") / 255\n",
    "test_images = test_images.reshape((10000, 28 * 28)).astype(\"float32\") / 255\n",
    "train_images, val_images = images[10000:], images[:10000]\n",
    "train_labels, val_labels = labels[10000:], labels[:10000]\n",
    "\n",
    "model = get_mnist_model()\n",
    "model.compile(optimizer=\"rmsprop\",\n",
    "              loss=\"sparse_categorical_crossentropy\",\n",
    "              metrics=[\"accuracy\"])\n",
    "model.fit(train_images, train_labels,\n",
    "          epochs=3,\n",
    "          validation_data=(val_images, val_labels))\n",
    "test_metrics = model.evaluate(test_images, test_labels)\n",
    "predictions = model.predict(test_images)"
   ]
  },
  {
   "cell_type": "markdown",
   "metadata": {
    "colab_type": "text"
   },
   "source": [
    "### Writing your own metrics"
   ]
  },
  {
   "cell_type": "markdown",
   "metadata": {
    "colab_type": "text"
   },
   "source": [
    "**Implementing a custom metric by subclassing the `Metric` class**"
   ]
  },
  {
   "cell_type": "code",
   "execution_count": 44,
   "metadata": {
    "colab_type": "code"
   },
   "outputs": [],
   "source": [
    "import tensorflow as tf\n",
    "\n",
    "class RootMeanSquaredError(keras.metrics.Metric):\n",
    "\n",
    "    def __init__(self, name=\"rmse\", **kwargs):\n",
    "        super().__init__(name=name, **kwargs)\n",
    "        self.mse_sum = self.add_weight(name=\"mse_sum\", initializer=\"zeros\")\n",
    "        self.total_samples = self.add_weight(\n",
    "            name=\"total_samples\", initializer=\"zeros\", dtype=\"int32\")\n",
    "\n",
    "    def update_state(self, y_true, y_pred, sample_weight=None):\n",
    "        y_true = tf.one_hot(y_true, depth=tf.shape(y_pred)[1])\n",
    "        mse = tf.reduce_sum(tf.square(y_true - y_pred))\n",
    "        self.mse_sum.assign_add(mse)\n",
    "        num_samples = tf.shape(y_pred)[0]\n",
    "        self.total_samples.assign_add(num_samples)\n",
    "\n",
    "    def result(self):\n",
    "        return tf.sqrt(self.mse_sum / tf.cast(self.total_samples, tf.float32))\n",
    "\n",
    "    def reset_state(self):\n",
    "        self.mse_sum.assign(0.)\n",
    "        self.total_samples.assign(0)"
   ]
  },
  {
   "cell_type": "code",
   "execution_count": 45,
   "metadata": {
    "colab_type": "code"
   },
   "outputs": [
    {
     "name": "stdout",
     "output_type": "stream",
     "text": [
      "Epoch 1/3\n",
      "1563/1563 [==============================] - 5s 3ms/step - loss: 0.2984 - accuracy: 0.9132 - rmse: 7.1821 - val_loss: 0.1519 - val_accuracy: 0.9561 - val_rmse: 7.3609\n",
      "Epoch 2/3\n",
      "1563/1563 [==============================] - 4s 3ms/step - loss: 0.1669 - accuracy: 0.9541 - rmse: 7.3571 - val_loss: 0.1202 - val_accuracy: 0.9669 - val_rmse: 7.4020\n",
      "Epoch 3/3\n",
      "1563/1563 [==============================] - 4s 3ms/step - loss: 0.1412 - accuracy: 0.9617 - rmse: 7.3888 - val_loss: 0.1147 - val_accuracy: 0.9710 - val_rmse: 7.4205\n",
      "313/313 [==============================] - 0s 851us/step - loss: 0.1067 - accuracy: 0.9718 - rmse: 7.4346\n"
     ]
    }
   ],
   "source": [
    "model = get_mnist_model()\n",
    "model.compile(optimizer=\"rmsprop\",\n",
    "              loss=\"sparse_categorical_crossentropy\",\n",
    "              metrics=[\"accuracy\", RootMeanSquaredError()])\n",
    "model.fit(train_images, train_labels,\n",
    "          epochs=3,\n",
    "          validation_data=(val_images, val_labels))\n",
    "test_metrics = model.evaluate(test_images, test_labels)"
   ]
  },
  {
   "cell_type": "markdown",
   "metadata": {
    "colab_type": "text"
   },
   "source": [
    "### Using callbacks"
   ]
  },
  {
   "cell_type": "markdown",
   "metadata": {
    "colab_type": "text"
   },
   "source": [
    "#### The EarlyStopping and ModelCheckpoint callbacks"
   ]
  },
  {
   "cell_type": "markdown",
   "metadata": {
    "colab_type": "text"
   },
   "source": [
    "**Using the `callbacks` argument in the `fit()` method**"
   ]
  },
  {
   "cell_type": "code",
   "execution_count": 46,
   "metadata": {
    "colab_type": "code"
   },
   "outputs": [
    {
     "name": "stdout",
     "output_type": "stream",
     "text": [
      "Epoch 1/10\n",
      "1563/1563 [==============================] - 5s 3ms/step - loss: 0.2929 - accuracy: 0.9123 - val_loss: 0.1582 - val_accuracy: 0.9543\n",
      "Epoch 2/10\n",
      "1563/1563 [==============================] - 4s 3ms/step - loss: 0.1664 - accuracy: 0.9522 - val_loss: 0.1293 - val_accuracy: 0.9648\n",
      "Epoch 3/10\n",
      "1563/1563 [==============================] - 4s 3ms/step - loss: 0.1385 - accuracy: 0.9626 - val_loss: 0.1285 - val_accuracy: 0.9687\n",
      "Epoch 4/10\n",
      "1563/1563 [==============================] - 4s 3ms/step - loss: 0.1275 - accuracy: 0.9676 - val_loss: 0.0996 - val_accuracy: 0.9764\n",
      "Epoch 5/10\n",
      "1563/1563 [==============================] - 4s 3ms/step - loss: 0.1160 - accuracy: 0.9706 - val_loss: 0.1210 - val_accuracy: 0.9728\n",
      "Epoch 6/10\n",
      "1563/1563 [==============================] - 4s 3ms/step - loss: 0.1081 - accuracy: 0.9732 - val_loss: 0.1151 - val_accuracy: 0.9748\n"
     ]
    },
    {
     "data": {
      "text/plain": [
       "<keras.callbacks.History at 0x7fea75e2ee10>"
      ]
     },
     "execution_count": 46,
     "metadata": {},
     "output_type": "execute_result"
    }
   ],
   "source": [
    "callbacks_list = [\n",
    "    keras.callbacks.EarlyStopping(\n",
    "        monitor=\"val_accuracy\",\n",
    "        patience=2,\n",
    "    ),\n",
    "    keras.callbacks.ModelCheckpoint(\n",
    "        filepath=\"checkpoint_path.keras\",\n",
    "        monitor=\"val_loss\",\n",
    "        save_best_only=True,\n",
    "    )\n",
    "]\n",
    "model = get_mnist_model()\n",
    "model.compile(optimizer=\"rmsprop\",\n",
    "              loss=\"sparse_categorical_crossentropy\",\n",
    "              metrics=[\"accuracy\"])\n",
    "model.fit(train_images, train_labels,\n",
    "          epochs=10,\n",
    "          callbacks=callbacks_list,\n",
    "          validation_data=(val_images, val_labels))"
   ]
  },
  {
   "cell_type": "code",
   "execution_count": 47,
   "metadata": {
    "colab_type": "code"
   },
   "outputs": [],
   "source": [
    "model = keras.models.load_model(\"checkpoint_path.keras\")"
   ]
  },
  {
   "cell_type": "markdown",
   "metadata": {
    "colab_type": "text"
   },
   "source": [
    "### Writing your own callbacks"
   ]
  },
  {
   "cell_type": "markdown",
   "metadata": {
    "colab_type": "text"
   },
   "source": [
    "**Creating a custom callback by subclassing the `Callback` class**"
   ]
  },
  {
   "cell_type": "code",
   "execution_count": 52,
   "metadata": {
    "colab_type": "code"
   },
   "outputs": [],
   "source": [
    "from matplotlib import pyplot as plt\n",
    "\n",
    "class LossHistory(keras.callbacks.Callback):\n",
    "    def on_train_begin(self, logs):\n",
    "        self.per_batch_losses = []\n",
    "\n",
    "    def on_batch_end(self, epoch, logs):\n",
    "        self.per_batch_losses.append(logs.get(\"loss\"))\n",
    "\n",
    "    def on_epoch_end(self, epoch, logs):\n",
    "        plt.clf()\n",
    "        plt.plot(range(len(self.per_batch_losses)), self.per_batch_losses,\n",
    "                 label=\"Training loss for each batch\")\n",
    "        plt.xlabel(f\"Batch (epoch {epoch})\")\n",
    "        plt.ylabel(\"Loss\")\n",
    "        plt.legend()\n",
    "        plt.savefig(f\"plot_at_epoch_{epoch}\")\n",
    "        self.per_batch_losses = []"
   ]
  },
  {
   "cell_type": "code",
   "execution_count": 59,
   "metadata": {},
   "outputs": [],
   "source": [
    "from matplotlib import pyplot as plt\n",
    "\n",
    "class ValLossHistory(keras.callbacks.Callback):\n",
    "    def on_train_begin(self, logs):\n",
    "        self.per_epoch_losses = []\n",
    "\n",
    "    def on_epoch_end(self, epoch, logs):\n",
    "        self.per_epoch_losses.append(logs.get(\"val_loss\"))\n",
    "        \n",
    "    def on_train_end(self, logs):\n",
    "        plt.clf()\n",
    "        plt.plot(range(len(self.per_epoch_losses)), self.per_epoch_losses,\n",
    "                 label=\"Validation loss for all epochs\")\n",
    "        plt.xlabel(f\"Epochs\")\n",
    "        plt.ylabel(\"Validation Loss\")\n",
    "        plt.legend()\n",
    "        plt.savefig(f\"val_plot_losses\")\n",
    "        "
   ]
  },
  {
   "cell_type": "code",
   "execution_count": 60,
   "metadata": {
    "colab_type": "code"
   },
   "outputs": [
    {
     "name": "stdout",
     "output_type": "stream",
     "text": [
      "Epoch 1/10\n",
      "1563/1563 [==============================] - 4s 3ms/step - loss: 0.2967 - accuracy: 0.9122 - val_loss: 0.1439 - val_accuracy: 0.9591\n",
      "Epoch 2/10\n",
      "1563/1563 [==============================] - 4s 3ms/step - loss: 0.1639 - accuracy: 0.9533 - val_loss: 0.1178 - val_accuracy: 0.9681\n",
      "Epoch 3/10\n",
      "1563/1563 [==============================] - 4s 3ms/step - loss: 0.1378 - accuracy: 0.9634 - val_loss: 0.1168 - val_accuracy: 0.9707\n",
      "Epoch 4/10\n",
      "1563/1563 [==============================] - 4s 3ms/step - loss: 0.1269 - accuracy: 0.9669 - val_loss: 0.1114 - val_accuracy: 0.9740\n",
      "Epoch 5/10\n",
      "1563/1563 [==============================] - 4s 3ms/step - loss: 0.1179 - accuracy: 0.9706 - val_loss: 0.1099 - val_accuracy: 0.9749\n",
      "Epoch 6/10\n",
      "1563/1563 [==============================] - 4s 3ms/step - loss: 0.1139 - accuracy: 0.9728 - val_loss: 0.1108 - val_accuracy: 0.9763\n",
      "Epoch 7/10\n",
      "1563/1563 [==============================] - 4s 3ms/step - loss: 0.1036 - accuracy: 0.9754 - val_loss: 0.1098 - val_accuracy: 0.9766\n",
      "Epoch 8/10\n",
      "1563/1563 [==============================] - 4s 3ms/step - loss: 0.0988 - accuracy: 0.9766 - val_loss: 0.1148 - val_accuracy: 0.9778\n",
      "Epoch 9/10\n",
      "1563/1563 [==============================] - 4s 3ms/step - loss: 0.0987 - accuracy: 0.9777 - val_loss: 0.1076 - val_accuracy: 0.9781\n",
      "Epoch 10/10\n",
      "1563/1563 [==============================] - 4s 3ms/step - loss: 0.0941 - accuracy: 0.9792 - val_loss: 0.1098 - val_accuracy: 0.9785\n"
     ]
    },
    {
     "data": {
      "text/plain": [
       "<keras.callbacks.History at 0x7fea4c706860>"
      ]
     },
     "execution_count": 60,
     "metadata": {},
     "output_type": "execute_result"
    },
    {
     "data": {
      "image/png": "[encoded data removed]",
      "text/plain": [
       "<Figure size 432x288 with 1 Axes>"
      ]
     },
     "metadata": {
      "needs_background": "light"
     },
     "output_type": "display_data"
    }
   ],
   "source": [
    "model = get_mnist_model()\n",
    "model.compile(optimizer=\"rmsprop\",\n",
    "              loss=\"sparse_categorical_crossentropy\",\n",
    "              metrics=[\"accuracy\"])\n",
    "model.fit(train_images, train_labels,\n",
    "          epochs=10,\n",
    "          callbacks=[ValLossHistory()],\n",
    "          validation_data=(val_images, val_labels))"
   ]
  },
  {
   "cell_type": "markdown",
   "metadata": {
    "colab_type": "text"
   },
   "source": [
    "### Monitoring and visualization with TensorBoard"
   ]
  },
  {
   "cell_type": "code",
   "execution_count": null,
   "metadata": {
    "colab_type": "code"
   },
   "outputs": [],
   "source": [
    "model = get_mnist_model()\n",
    "model.compile(optimizer=\"rmsprop\",\n",
    "              loss=\"sparse_categorical_crossentropy\",\n",
    "              metrics=[\"accuracy\"])\n",
    "\n",
    "tensorboard = keras.callbacks.TensorBoard(\n",
    "    log_dir=\"/full_path_to_your_log_dir\",\n",
    ")\n",
    "model.fit(train_images, train_labels,\n",
    "          epochs=10,\n",
    "          validation_data=(val_images, val_labels),\n",
    "          callbacks=[tensorboard])"
   ]
  },
  {
   "cell_type": "code",
   "execution_count": null,
   "metadata": {
    "colab_type": "code"
   },
   "outputs": [],
   "source": [
    "%load_ext tensorboard\n",
    "%tensorboard --logdir /full_path_to_your_log_dir"
   ]
  },
  {
   "cell_type": "markdown",
   "metadata": {
    "colab_type": "text"
   },
   "source": [
    "## Writing your own training and evaluation loops"
   ]
  },
  {
   "cell_type": "markdown",
   "metadata": {
    "colab_type": "text"
   },
   "source": [
    "### Training versus inference"
   ]
  },
  {
   "cell_type": "markdown",
   "metadata": {
    "colab_type": "text"
   },
   "source": [
    "### Low-level usage of metrics"
   ]
  },
  {
   "cell_type": "code",
   "execution_count": null,
   "metadata": {
    "colab_type": "code"
   },
   "outputs": [],
   "source": [
    "metric = keras.metrics.SparseCategoricalAccuracy()\n",
    "targets = [0, 1, 2]\n",
    "predictions = [[1, 0, 0], [0, 1, 0], [0, 0, 1]]\n",
    "metric.update_state(targets, predictions)\n",
    "current_result = metric.result()\n",
    "print(f\"result: {current_result:.2f}\")"
   ]
  },
  {
   "cell_type": "code",
   "execution_count": null,
   "metadata": {
    "colab_type": "code"
   },
   "outputs": [],
   "source": [
    "values = [0, 1, 2, 3, 4]\n",
    "mean_tracker = keras.metrics.Mean()\n",
    "for value in values:\n",
    "    mean_tracker.update_state(value)\n",
    "print(f\"Mean of values: {mean_tracker.result():.2f}\")"
   ]
  },
  {
   "cell_type": "markdown",
   "metadata": {
    "colab_type": "text"
   },
   "source": [
    "### A complete training and evaluation loop"
   ]
  },
  {
   "cell_type": "markdown",
   "metadata": {
    "colab_type": "text"
   },
   "source": [
    "**Writing a step-by-step training loop: the training step function**"
   ]
  },
  {
   "cell_type": "code",
   "execution_count": null,
   "metadata": {
    "colab_type": "code"
   },
   "outputs": [],
   "source": [
    "model = get_mnist_model()\n",
    "\n",
    "loss_fn = keras.losses.SparseCategoricalCrossentropy()\n",
    "optimizer = keras.optimizers.RMSprop()\n",
    "metrics = [keras.metrics.SparseCategoricalAccuracy()]\n",
    "loss_tracking_metric = keras.metrics.Mean()\n",
    "\n",
    "def train_step(inputs, targets):\n",
    "    with tf.GradientTape() as tape:\n",
    "        predictions = model(inputs, training=True)\n",
    "        loss = loss_fn(targets, predictions)\n",
    "    gradients = tape.gradient(loss, model.trainable_weights)\n",
    "    optimizer.apply_gradients(zip(gradients, model.trainable_weights))\n",
    "\n",
    "    logs = {}\n",
    "    for metric in metrics:\n",
    "        metric.update_state(targets, predictions)\n",
    "        logs[metric.name] = metric.result()\n",
    "\n",
    "    loss_tracking_metric.update_state(loss)\n",
    "    logs[\"loss\"] = loss_tracking_metric.result()\n",
    "    return logs"
   ]
  },
  {
   "cell_type": "markdown",
   "metadata": {
    "colab_type": "text"
   },
   "source": [
    "**Writing a step-by-step training loop: resetting the metrics**"
   ]
  },
  {
   "cell_type": "code",
   "execution_count": null,
   "metadata": {
    "colab_type": "code"
   },
   "outputs": [],
   "source": [
    "def reset_metrics():\n",
    "    for metric in metrics:\n",
    "        metric.reset_state()\n",
    "    loss_tracking_metric.reset_state()"
   ]
  },
  {
   "cell_type": "markdown",
   "metadata": {
    "colab_type": "text"
   },
   "source": [
    "**Writing a step-by-step training loop: the loop itself**"
   ]
  },
  {
   "cell_type": "code",
   "execution_count": null,
   "metadata": {
    "colab_type": "code"
   },
   "outputs": [],
   "source": [
    "training_dataset = tf.data.Dataset.from_tensor_slices((train_images, train_labels))\n",
    "training_dataset = training_dataset.batch(32)\n",
    "epochs = 3\n",
    "for epoch in range(epochs):\n",
    "    reset_metrics()\n",
    "    for inputs_batch, targets_batch in training_dataset:\n",
    "        logs = train_step(inputs_batch, targets_batch)\n",
    "    print(f\"Results at the end of epoch {epoch}\")\n",
    "    for key, value in logs.items():\n",
    "        print(f\"...{key}: {value:.4f}\")"
   ]
  },
  {
   "cell_type": "markdown",
   "metadata": {
    "colab_type": "text"
   },
   "source": [
    "**Writing a step-by-step evaluation loop**"
   ]
  },
  {
   "cell_type": "code",
   "execution_count": null,
   "metadata": {
    "colab_type": "code"
   },
   "outputs": [],
   "source": [
    "def test_step(inputs, targets):\n",
    "    predictions = model(inputs, training=False)\n",
    "    loss = loss_fn(targets, predictions)\n",
    "\n",
    "    logs = {}\n",
    "    for metric in metrics:\n",
    "        metric.update_state(targets, predictions)\n",
    "        logs[\"val_\" + metric.name] = metric.result()\n",
    "\n",
    "    loss_tracking_metric.update_state(loss)\n",
    "    logs[\"val_loss\"] = loss_tracking_metric.result()\n",
    "    return logs\n",
    "\n",
    "val_dataset = tf.data.Dataset.from_tensor_slices((val_images, val_labels))\n",
    "val_dataset = val_dataset.batch(32)\n",
    "reset_metrics()\n",
    "for inputs_batch, targets_batch in val_dataset:\n",
    "    logs = test_step(inputs_batch, targets_batch)\n",
    "print(\"Evaluation results:\")\n",
    "for key, value in logs.items():\n",
    "    print(f\"...{key}: {value:.4f}\")"
   ]
  },
  {
   "cell_type": "markdown",
   "metadata": {
    "colab_type": "text"
   },
   "source": [
    "### Make it fast with tf.function"
   ]
  },
  {
   "cell_type": "markdown",
   "metadata": {
    "colab_type": "text"
   },
   "source": [
    "**Adding a `tf.function` decorator to our evaluation-step function**"
   ]
  },
  {
   "cell_type": "code",
   "execution_count": null,
   "metadata": {
    "colab_type": "code"
   },
   "outputs": [],
   "source": [
    "@tf.function\n",
    "def test_step(inputs, targets):\n",
    "    predictions = model(inputs, training=False)\n",
    "    loss = loss_fn(targets, predictions)\n",
    "\n",
    "    logs = {}\n",
    "    for metric in metrics:\n",
    "        metric.update_state(targets, predictions)\n",
    "        logs[\"val_\" + metric.name] = metric.result()\n",
    "\n",
    "    loss_tracking_metric.update_state(loss)\n",
    "    logs[\"val_loss\"] = loss_tracking_metric.result()\n",
    "    return logs\n",
    "\n",
    "val_dataset = tf.data.Dataset.from_tensor_slices((val_images, val_labels))\n",
    "val_dataset = val_dataset.batch(32)\n",
    "reset_metrics()\n",
    "for inputs_batch, targets_batch in val_dataset:\n",
    "    logs = test_step(inputs_batch, targets_batch)\n",
    "print(\"Evaluation results:\")\n",
    "for key, value in logs.items():\n",
    "    print(f\"...{key}: {value:.4f}\")"
   ]
  },
  {
   "cell_type": "markdown",
   "metadata": {
    "colab_type": "text"
   },
   "source": [
    "### Leveraging fit() with a custom training loop"
   ]
  },
  {
   "cell_type": "markdown",
   "metadata": {
    "colab_type": "text"
   },
   "source": [
    "**Implementing a custom training step to use with `fit()`**"
   ]
  },
  {
   "cell_type": "code",
   "execution_count": null,
   "metadata": {
    "colab_type": "code"
   },
   "outputs": [],
   "source": [
    "loss_fn = keras.losses.SparseCategoricalCrossentropy()\n",
    "loss_tracker = keras.metrics.Mean(name=\"loss\")\n",
    "\n",
    "class CustomModel(keras.Model):\n",
    "    def train_step(self, data):\n",
    "        inputs, targets = data\n",
    "        with tf.GradientTape() as tape:\n",
    "            predictions = self(inputs, training=True)\n",
    "            loss = loss_fn(targets, predictions)\n",
    "        gradients = tape.gradient(loss, self.trainable_weights)\n",
    "        self.optimizer.apply_gradients(zip(gradients, self.trainable_weights))\n",
    "\n",
    "        loss_tracker.update_state(loss)\n",
    "        return {\"loss\": loss_tracker.result()}\n",
    "\n",
    "    @property\n",
    "    def metrics(self):\n",
    "        return [loss_tracker]"
   ]
  },
  {
   "cell_type": "code",
   "execution_count": null,
   "metadata": {
    "colab_type": "code"
   },
   "outputs": [],
   "source": [
    "inputs = keras.Input(shape=(28 * 28,))\n",
    "features = layers.Dense(512, activation=\"relu\")(inputs)\n",
    "features = layers.Dropout(0.5)(features)\n",
    "outputs = layers.Dense(10, activation=\"softmax\")(features)\n",
    "model = CustomModel(inputs, outputs)\n",
    "\n",
    "model.compile(optimizer=keras.optimizers.RMSprop())\n",
    "model.fit(train_images, train_labels, epochs=3)"
   ]
  },
  {
   "cell_type": "code",
   "execution_count": null,
   "metadata": {
    "colab_type": "code"
   },
   "outputs": [],
   "source": [
    "class CustomModel(keras.Model):\n",
    "    def train_step(self, data):\n",
    "        inputs, targets = data\n",
    "        with tf.GradientTape() as tape:\n",
    "            predictions = self(inputs, training=True)\n",
    "            loss = self.compiled_loss(targets, predictions)\n",
    "        gradients = tape.gradient(loss, self.trainable_weights)\n",
    "        self.optimizer.apply_gradients(zip(gradients, self.trainable_weights))\n",
    "        self.compiled_metrics.update_state(targets, predictions)\n",
    "        return {m.name: m.result() for m in self.metrics}"
   ]
  },
  {
   "cell_type": "code",
   "execution_count": null,
   "metadata": {
    "colab_type": "code"
   },
   "outputs": [],
   "source": [
    "inputs = keras.Input(shape=(28 * 28,))\n",
    "features = layers.Dense(512, activation=\"relu\")(inputs)\n",
    "features = layers.Dropout(0.5)(features)\n",
    "outputs = layers.Dense(10, activation=\"softmax\")(features)\n",
    "model = CustomModel(inputs, outputs)\n",
    "\n",
    "model.compile(optimizer=keras.optimizers.RMSprop(),\n",
    "              loss=keras.losses.SparseCategoricalCrossentropy(),\n",
    "              metrics=[keras.metrics.SparseCategoricalAccuracy()])\n",
    "model.fit(train_images, train_labels, epochs=3)"
   ]
  },
  {
   "cell_type": "markdown",
   "metadata": {
    "colab_type": "text"
   },
   "source": [
    "## Summary"
   ]
  }
 ],
 "metadata": {
  "colab": {
   "collapsed_sections": [],
   "name": "chapter07_working-with-keras.i",
   "private_outputs": false,
   "provenance": [],
   "toc_visible": true
  },
  "kernelspec": {
   "display_name": "deeplearning",
   "language": "python",
   "name": "deeplearning"
  },
  "language_info": {
   "codemirror_mode": {
    "name": "ipython",
    "version": 3
   },
   "file_extension": ".py",
   "mimetype": "text/x-python",
   "name": "python",
   "nbconvert_exporter": "python",
   "pygments_lexer": "ipython3",
   "version": "3.6.13"
  }
 },
 "nbformat": 4,
 "nbformat_minor": 4
}
