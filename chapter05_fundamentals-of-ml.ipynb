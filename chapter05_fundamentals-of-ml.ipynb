{
 "cells": [
  {
   "cell_type": "markdown",
   "metadata": {
    "colab_type": "text"
   },
   "source": [
    "This is a companion notebook for the book [Deep Learning with Python, Second Edition](https://www.manning.com/books/deep-learning-with-python-second-edition?a_aid=keras&a_bid=76564dff). For readability, it only contains runnable code blocks and section titles, and omits everything else in the book: text paragraphs, figures, and pseudocode.\n",
    "\n",
    "**If you want to be able to follow what's going on, I recommend reading the notebook side by side with your copy of the book.**\n",
    "\n",
    "This notebook was generated for TensorFlow 2.6."
   ]
  },
  {
   "cell_type": "markdown",
   "metadata": {
    "colab_type": "text"
   },
   "source": [
    "# Fundamentals of machine learning"
   ]
  },
  {
   "cell_type": "markdown",
   "metadata": {
    "colab_type": "text"
   },
   "source": [
    "## Generalization: The goal of machine learning"
   ]
  },
  {
   "cell_type": "markdown",
   "metadata": {
    "colab_type": "text"
   },
   "source": [
    "### Underfitting and overfitting"
   ]
  },
  {
   "cell_type": "markdown",
   "metadata": {
    "colab_type": "text"
   },
   "source": [
    "#### Noisy training data"
   ]
  },
  {
   "cell_type": "markdown",
   "metadata": {
    "colab_type": "text"
   },
   "source": [
    "#### Ambiguous features"
   ]
  },
  {
   "cell_type": "markdown",
   "metadata": {
    "colab_type": "text"
   },
   "source": [
    "#### Rare features and spurious correlations"
   ]
  },
  {
   "cell_type": "markdown",
   "metadata": {
    "colab_type": "text"
   },
   "source": [
    "**Adding white-noise channels or all-zeros channels to MNIST**"
   ]
  },
  {
   "cell_type": "code",
   "execution_count": 1,
   "metadata": {
    "colab_type": "code"
   },
   "outputs": [],
   "source": [
    "from tensorflow.keras.datasets import mnist\n",
    "import numpy as np\n",
    "\n",
    "(train_images, train_labels), _ = mnist.load_data()\n",
    "train_images = train_images.reshape((60000, 28 * 28))\n",
    "train_images = train_images.astype(\"float32\") / 255\n",
    "\n",
    "train_images_with_noise_channels = np.concatenate(\n",
    "    [train_images, np.random.random((len(train_images), 784))], axis=1)\n",
    "\n",
    "train_images_with_zeros_channels = np.concatenate(\n",
    "    [train_images, np.zeros((len(train_images), 784))], axis=1)"
   ]
  },
  {
   "cell_type": "markdown",
   "metadata": {
    "colab_type": "text"
   },
   "source": [
    "**Training the same model on MNIST data with noise channels or all-zero channels**"
   ]
  },
  {
   "cell_type": "code",
   "execution_count": 2,
   "metadata": {
    "colab_type": "code"
   },
   "outputs": [
    {
     "name": "stdout",
     "output_type": "stream",
     "text": [
      "Epoch 1/10\n",
      "375/375 [==============================] - 3s 6ms/step - loss: 0.6098 - accuracy: 0.8149 - val_loss: 0.3313 - val_accuracy: 0.8983\n",
      "Epoch 2/10\n",
      "375/375 [==============================] - 2s 5ms/step - loss: 0.2426 - accuracy: 0.9252 - val_loss: 0.2690 - val_accuracy: 0.9123\n",
      "Epoch 3/10\n",
      "375/375 [==============================] - 2s 6ms/step - loss: 0.1603 - accuracy: 0.9499 - val_loss: 0.1783 - val_accuracy: 0.9457\n",
      "Epoch 4/10\n",
      "375/375 [==============================] - 2s 5ms/step - loss: 0.1156 - accuracy: 0.9642 - val_loss: 0.1267 - val_accuracy: 0.9628\n",
      "Epoch 5/10\n",
      "375/375 [==============================] - 2s 5ms/step - loss: 0.0827 - accuracy: 0.9736 - val_loss: 0.1210 - val_accuracy: 0.9648\n",
      "Epoch 6/10\n",
      "375/375 [==============================] - 2s 5ms/step - loss: 0.0622 - accuracy: 0.9799 - val_loss: 0.1579 - val_accuracy: 0.9558\n",
      "Epoch 7/10\n",
      "375/375 [==============================] - 2s 5ms/step - loss: 0.0454 - accuracy: 0.9854 - val_loss: 0.1412 - val_accuracy: 0.9603\n",
      "Epoch 8/10\n",
      "375/375 [==============================] - 2s 5ms/step - loss: 0.0342 - accuracy: 0.9888 - val_loss: 0.1786 - val_accuracy: 0.9570\n",
      "Epoch 9/10\n",
      "375/375 [==============================] - 2s 5ms/step - loss: 0.0261 - accuracy: 0.9915 - val_loss: 0.1635 - val_accuracy: 0.9614\n",
      "Epoch 10/10\n",
      "375/375 [==============================] - 2s 5ms/step - loss: 0.0211 - accuracy: 0.9931 - val_loss: 0.1435 - val_accuracy: 0.9648\n",
      "Epoch 1/10\n",
      "375/375 [==============================] - 2s 6ms/step - loss: 0.2886 - accuracy: 0.9157 - val_loss: 0.1502 - val_accuracy: 0.9576\n",
      "Epoch 2/10\n",
      "375/375 [==============================] - 2s 5ms/step - loss: 0.1196 - accuracy: 0.9643 - val_loss: 0.1094 - val_accuracy: 0.9680\n",
      "Epoch 3/10\n",
      "375/375 [==============================] - 2s 5ms/step - loss: 0.0777 - accuracy: 0.9777 - val_loss: 0.0892 - val_accuracy: 0.9742\n",
      "Epoch 4/10\n",
      "375/375 [==============================] - 2s 5ms/step - loss: 0.0573 - accuracy: 0.9824 - val_loss: 0.0831 - val_accuracy: 0.9758\n",
      "Epoch 5/10\n",
      "375/375 [==============================] - 2s 6ms/step - loss: 0.0415 - accuracy: 0.9878 - val_loss: 0.0936 - val_accuracy: 0.9724\n",
      "Epoch 6/10\n",
      "375/375 [==============================] - 2s 6ms/step - loss: 0.0310 - accuracy: 0.9907 - val_loss: 0.0860 - val_accuracy: 0.9758\n",
      "Epoch 7/10\n",
      "375/375 [==============================] - 2s 5ms/step - loss: 0.0240 - accuracy: 0.9929 - val_loss: 0.0768 - val_accuracy: 0.9793\n",
      "Epoch 8/10\n",
      "375/375 [==============================] - 2s 5ms/step - loss: 0.0187 - accuracy: 0.9946 - val_loss: 0.0872 - val_accuracy: 0.9768\n",
      "Epoch 9/10\n",
      "375/375 [==============================] - 2s 5ms/step - loss: 0.0142 - accuracy: 0.9959 - val_loss: 0.0869 - val_accuracy: 0.9783\n",
      "Epoch 10/10\n",
      "375/375 [==============================] - 2s 5ms/step - loss: 0.0107 - accuracy: 0.9973 - val_loss: 0.0874 - val_accuracy: 0.9793\n"
     ]
    }
   ],
   "source": [
    "from tensorflow import keras\n",
    "from tensorflow.keras import layers\n",
    "\n",
    "def get_model():\n",
    "    model = keras.Sequential([\n",
    "        layers.Dense(512, activation=\"relu\"),\n",
    "        layers.Dense(10, activation=\"softmax\")\n",
    "    ])\n",
    "    model.compile(optimizer=\"rmsprop\",\n",
    "                  loss=\"sparse_categorical_crossentropy\",\n",
    "                  metrics=[\"accuracy\"])\n",
    "    return model\n",
    "\n",
    "model = get_model()\n",
    "history_noise = model.fit(\n",
    "    train_images_with_noise_channels, train_labels,\n",
    "    epochs=10,\n",
    "    batch_size=128,\n",
    "    validation_split=0.2)\n",
    "\n",
    "model = get_model()\n",
    "history_zeros = model.fit(\n",
    "    train_images_with_zeros_channels, train_labels,\n",
    "    epochs=10,\n",
    "    batch_size=128,\n",
    "    validation_split=0.2)"
   ]
  },
  {
   "cell_type": "markdown",
   "metadata": {
    "colab_type": "text"
   },
   "source": [
    "**Plotting a validation accuracy comparison**"
   ]
  },
  {
   "cell_type": "code",
   "execution_count": 3,
   "metadata": {
    "colab_type": "code"
   },
   "outputs": [
    {
     "data": {
      "text/plain": [
       "<matplotlib.legend.Legend at 0x7fc15331d6d8>"
      ]
     },
     "execution_count": 3,
     "metadata": {},
     "output_type": "execute_result"
    },
    {
     "data": {
      "image/png": "[encoded data removed]",
      "text/plain": [
       "<Figure size 432x288 with 1 Axes>"
      ]
     },
     "metadata": {
      "needs_background": "light"
     },
     "output_type": "display_data"
    }
   ],
   "source": [
    "import matplotlib.pyplot as plt\n",
    "val_acc_noise = history_noise.history[\"val_accuracy\"]\n",
    "val_acc_zeros = history_zeros.history[\"val_accuracy\"]\n",
    "epochs = range(1, 11)\n",
    "plt.plot(epochs, val_acc_noise, \"b-\",\n",
    "         label=\"Validation accuracy with noise channels\")\n",
    "plt.plot(epochs, val_acc_zeros, \"b--\",\n",
    "         label=\"Validation accuracy with zeros channels\")\n",
    "plt.title(\"Effect of noise channels on validation accuracy\")\n",
    "plt.xlabel(\"Epochs\")\n",
    "plt.ylabel(\"Accuracy\")\n",
    "plt.legend()"
   ]
  },
  {
   "cell_type": "markdown",
   "metadata": {
    "colab_type": "text"
   },
   "source": [
    "### The nature of generalization in deep learning"
   ]
  },
  {
   "cell_type": "markdown",
   "metadata": {
    "colab_type": "text"
   },
   "source": [
    "**Fitting a MNIST model with randomly shuffled labels**"
   ]
  },
  {
   "cell_type": "code",
   "execution_count": 4,
   "metadata": {
    "colab_type": "code"
   },
   "outputs": [
    {
     "name": "stdout",
     "output_type": "stream",
     "text": [
      "Epoch 1/100\n",
      "375/375 [==============================] - 2s 5ms/step - loss: 2.3166 - accuracy: 0.1024 - val_loss: 2.3064 - val_accuracy: 0.1047\n",
      "Epoch 2/100\n",
      "375/375 [==============================] - 1s 3ms/step - loss: 2.2993 - accuracy: 0.1176 - val_loss: 2.3165 - val_accuracy: 0.1005\n",
      "Epoch 3/100\n",
      "375/375 [==============================] - 1s 3ms/step - loss: 2.2911 - accuracy: 0.1289 - val_loss: 2.3214 - val_accuracy: 0.1000\n",
      "Epoch 4/100\n",
      "375/375 [==============================] - 1s 3ms/step - loss: 2.2775 - accuracy: 0.1404 - val_loss: 2.3303 - val_accuracy: 0.0978\n",
      "Epoch 5/100\n",
      "375/375 [==============================] - 1s 3ms/step - loss: 2.2613 - accuracy: 0.1526 - val_loss: 2.3459 - val_accuracy: 0.0963\n",
      "Epoch 6/100\n",
      "375/375 [==============================] - 1s 3ms/step - loss: 2.2401 - accuracy: 0.1650 - val_loss: 2.3504 - val_accuracy: 0.0978\n",
      "Epoch 7/100\n",
      "375/375 [==============================] - 1s 3ms/step - loss: 2.2175 - accuracy: 0.1814 - val_loss: 2.3687 - val_accuracy: 0.0988\n",
      "Epoch 8/100\n",
      "375/375 [==============================] - 1s 3ms/step - loss: 2.1907 - accuracy: 0.1967 - val_loss: 2.3948 - val_accuracy: 0.0995\n",
      "Epoch 9/100\n",
      "375/375 [==============================] - 1s 3ms/step - loss: 2.1632 - accuracy: 0.2123 - val_loss: 2.4109 - val_accuracy: 0.1015\n",
      "Epoch 10/100\n",
      "375/375 [==============================] - 1s 3ms/step - loss: 2.1311 - accuracy: 0.2278 - val_loss: 2.4240 - val_accuracy: 0.1022\n",
      "Epoch 11/100\n",
      "375/375 [==============================] - 1s 3ms/step - loss: 2.1002 - accuracy: 0.2433 - val_loss: 2.4552 - val_accuracy: 0.0966\n",
      "Epoch 12/100\n",
      "375/375 [==============================] - 1s 3ms/step - loss: 2.0671 - accuracy: 0.2571 - val_loss: 2.4705 - val_accuracy: 0.1037\n",
      "Epoch 13/100\n",
      "375/375 [==============================] - 1s 3ms/step - loss: 2.0319 - accuracy: 0.2725 - val_loss: 2.4846 - val_accuracy: 0.1021\n",
      "Epoch 14/100\n",
      "375/375 [==============================] - 1s 3ms/step - loss: 1.9985 - accuracy: 0.2877 - val_loss: 2.5318 - val_accuracy: 0.0994\n",
      "Epoch 15/100\n",
      "375/375 [==============================] - 1s 3ms/step - loss: 1.9630 - accuracy: 0.3014 - val_loss: 2.5566 - val_accuracy: 0.0997\n",
      "Epoch 16/100\n",
      "375/375 [==============================] - 1s 3ms/step - loss: 1.9285 - accuracy: 0.3203 - val_loss: 2.5990 - val_accuracy: 0.1032\n",
      "Epoch 17/100\n",
      "375/375 [==============================] - 1s 3ms/step - loss: 1.8944 - accuracy: 0.3323 - val_loss: 2.6311 - val_accuracy: 0.1003\n",
      "Epoch 18/100\n",
      "375/375 [==============================] - 1s 3ms/step - loss: 1.8603 - accuracy: 0.3441 - val_loss: 2.6582 - val_accuracy: 0.0992\n",
      "Epoch 19/100\n",
      "375/375 [==============================] - 1s 3ms/step - loss: 1.8274 - accuracy: 0.3593 - val_loss: 2.6914 - val_accuracy: 0.1028\n",
      "Epoch 20/100\n",
      "375/375 [==============================] - 1s 3ms/step - loss: 1.7931 - accuracy: 0.3737 - val_loss: 2.7441 - val_accuracy: 0.0951\n",
      "Epoch 21/100\n",
      "375/375 [==============================] - 1s 3ms/step - loss: 1.7608 - accuracy: 0.3828 - val_loss: 2.7779 - val_accuracy: 0.1016\n",
      "Epoch 22/100\n",
      "375/375 [==============================] - 1s 3ms/step - loss: 1.7276 - accuracy: 0.3994 - val_loss: 2.8308 - val_accuracy: 0.1028\n",
      "Epoch 23/100\n",
      "375/375 [==============================] - 1s 3ms/step - loss: 1.6972 - accuracy: 0.4100 - val_loss: 2.8713 - val_accuracy: 0.1013\n",
      "Epoch 24/100\n",
      "375/375 [==============================] - 1s 3ms/step - loss: 1.6641 - accuracy: 0.4227 - val_loss: 2.9216 - val_accuracy: 0.1018\n",
      "Epoch 25/100\n",
      "375/375 [==============================] - 1s 3ms/step - loss: 1.6353 - accuracy: 0.4331 - val_loss: 2.9670 - val_accuracy: 0.0983\n",
      "Epoch 26/100\n",
      "375/375 [==============================] - 1s 3ms/step - loss: 1.6054 - accuracy: 0.4449 - val_loss: 2.9713 - val_accuracy: 0.1029\n",
      "Epoch 27/100\n",
      "375/375 [==============================] - 1s 3ms/step - loss: 1.5781 - accuracy: 0.4556 - val_loss: 3.0303 - val_accuracy: 0.1028\n",
      "Epoch 28/100\n",
      "375/375 [==============================] - 1s 3ms/step - loss: 1.5498 - accuracy: 0.4663 - val_loss: 3.0564 - val_accuracy: 0.1026\n",
      "Epoch 29/100\n",
      "375/375 [==============================] - 1s 3ms/step - loss: 1.5226 - accuracy: 0.4777 - val_loss: 3.1116 - val_accuracy: 0.1040\n",
      "Epoch 30/100\n",
      "375/375 [==============================] - 1s 3ms/step - loss: 1.4941 - accuracy: 0.4884 - val_loss: 3.1660 - val_accuracy: 0.1023\n",
      "Epoch 31/100\n",
      "375/375 [==============================] - 1s 3ms/step - loss: 1.4680 - accuracy: 0.4973 - val_loss: 3.2570 - val_accuracy: 0.0995\n",
      "Epoch 32/100\n",
      "375/375 [==============================] - 1s 3ms/step - loss: 1.4450 - accuracy: 0.5040 - val_loss: 3.2385 - val_accuracy: 0.1009\n",
      "Epoch 33/100\n",
      "375/375 [==============================] - 1s 3ms/step - loss: 1.4187 - accuracy: 0.5171 - val_loss: 3.2980 - val_accuracy: 0.1013\n",
      "Epoch 34/100\n",
      "375/375 [==============================] - 1s 3ms/step - loss: 1.3947 - accuracy: 0.5267 - val_loss: 3.3550 - val_accuracy: 0.0978\n",
      "Epoch 35/100\n",
      "375/375 [==============================] - 1s 3ms/step - loss: 1.3725 - accuracy: 0.5322 - val_loss: 3.4100 - val_accuracy: 0.0997\n",
      "Epoch 36/100\n",
      "375/375 [==============================] - 1s 3ms/step - loss: 1.3473 - accuracy: 0.5412 - val_loss: 3.4421 - val_accuracy: 0.1062\n",
      "Epoch 37/100\n",
      "375/375 [==============================] - 1s 3ms/step - loss: 1.3244 - accuracy: 0.5516 - val_loss: 3.5479 - val_accuracy: 0.1003\n",
      "Epoch 38/100\n",
      "375/375 [==============================] - 1s 3ms/step - loss: 1.3018 - accuracy: 0.5562 - val_loss: 3.5577 - val_accuracy: 0.1047\n",
      "Epoch 39/100\n",
      "375/375 [==============================] - 1s 3ms/step - loss: 1.2808 - accuracy: 0.5645 - val_loss: 3.5910 - val_accuracy: 0.0995\n",
      "Epoch 40/100\n",
      "375/375 [==============================] - 1s 3ms/step - loss: 1.2587 - accuracy: 0.5739 - val_loss: 3.6299 - val_accuracy: 0.1050\n",
      "Epoch 41/100\n",
      "375/375 [==============================] - 1s 3ms/step - loss: 1.2392 - accuracy: 0.5789 - val_loss: 3.6809 - val_accuracy: 0.1018\n",
      "Epoch 42/100\n",
      "375/375 [==============================] - 1s 3ms/step - loss: 1.2187 - accuracy: 0.5888 - val_loss: 3.7466 - val_accuracy: 0.1038\n",
      "Epoch 43/100\n",
      "375/375 [==============================] - 1s 3ms/step - loss: 1.1970 - accuracy: 0.5972 - val_loss: 3.8097 - val_accuracy: 0.1001\n",
      "Epoch 44/100\n",
      "375/375 [==============================] - 1s 3ms/step - loss: 1.1757 - accuracy: 0.6024 - val_loss: 3.8845 - val_accuracy: 0.0995\n",
      "Epoch 45/100\n",
      "375/375 [==============================] - 1s 3ms/step - loss: 1.1590 - accuracy: 0.6080 - val_loss: 3.9297 - val_accuracy: 0.1000\n",
      "Epoch 46/100\n",
      "375/375 [==============================] - 1s 3ms/step - loss: 1.1407 - accuracy: 0.6162 - val_loss: 3.9806 - val_accuracy: 0.1040\n",
      "Epoch 47/100\n",
      "375/375 [==============================] - 1s 3ms/step - loss: 1.1203 - accuracy: 0.6249 - val_loss: 4.0239 - val_accuracy: 0.0997\n",
      "Epoch 48/100\n",
      "375/375 [==============================] - 1s 3ms/step - loss: 1.1032 - accuracy: 0.6313 - val_loss: 4.0932 - val_accuracy: 0.1012\n",
      "Epoch 49/100\n",
      "375/375 [==============================] - 1s 3ms/step - loss: 1.0841 - accuracy: 0.6375 - val_loss: 4.1457 - val_accuracy: 0.1012\n",
      "Epoch 50/100\n",
      "375/375 [==============================] - 1s 3ms/step - loss: 1.0689 - accuracy: 0.6417 - val_loss: 4.1934 - val_accuracy: 0.0989\n",
      "Epoch 51/100\n",
      "375/375 [==============================] - 1s 3ms/step - loss: 1.0506 - accuracy: 0.6484 - val_loss: 4.2415 - val_accuracy: 0.0980\n",
      "Epoch 52/100\n",
      "375/375 [==============================] - 1s 3ms/step - loss: 1.0353 - accuracy: 0.6546 - val_loss: 4.2852 - val_accuracy: 0.1018\n",
      "Epoch 53/100\n",
      "375/375 [==============================] - 1s 4ms/step - loss: 1.0193 - accuracy: 0.6594 - val_loss: 4.3500 - val_accuracy: 0.1042\n",
      "Epoch 54/100\n",
      "375/375 [==============================] - 2s 5ms/step - loss: 1.0027 - accuracy: 0.6651 - val_loss: 4.4077 - val_accuracy: 0.1047\n",
      "Epoch 55/100\n",
      "375/375 [==============================] - 2s 6ms/step - loss: 0.9875 - accuracy: 0.6706 - val_loss: 4.4866 - val_accuracy: 0.1013\n",
      "Epoch 56/100\n",
      "375/375 [==============================] - 3s 9ms/step - loss: 0.9699 - accuracy: 0.6794 - val_loss: 4.5609 - val_accuracy: 0.1007\n",
      "Epoch 57/100\n",
      "375/375 [==============================] - 4s 12ms/step - loss: 0.9564 - accuracy: 0.6829 - val_loss: 4.5814 - val_accuracy: 0.1028\n",
      "Epoch 58/100\n",
      "375/375 [==============================] - 5s 14ms/step - loss: 0.9405 - accuracy: 0.6883 - val_loss: 4.6568 - val_accuracy: 0.1021\n",
      "Epoch 59/100\n",
      "375/375 [==============================] - 4s 12ms/step - loss: 0.9277 - accuracy: 0.6907 - val_loss: 4.7038 - val_accuracy: 0.1031\n",
      "Epoch 60/100\n",
      "375/375 [==============================] - 3s 9ms/step - loss: 0.9146 - accuracy: 0.6969 - val_loss: 4.7646 - val_accuracy: 0.1016\n",
      "Epoch 61/100\n",
      "375/375 [==============================] - 3s 7ms/step - loss: 0.8989 - accuracy: 0.7015 - val_loss: 4.7985 - val_accuracy: 0.0996\n",
      "Epoch 62/100\n",
      "375/375 [==============================] - 2s 6ms/step - loss: 0.8823 - accuracy: 0.7071 - val_loss: 4.8513 - val_accuracy: 0.1041\n",
      "Epoch 63/100\n",
      "375/375 [==============================] - 2s 5ms/step - loss: 0.8715 - accuracy: 0.7122 - val_loss: 4.9590 - val_accuracy: 0.1023\n",
      "Epoch 64/100\n",
      "375/375 [==============================] - 2s 5ms/step - loss: 0.8565 - accuracy: 0.7160 - val_loss: 5.0354 - val_accuracy: 0.0992\n",
      "Epoch 65/100\n",
      "375/375 [==============================] - 2s 5ms/step - loss: 0.8428 - accuracy: 0.7221 - val_loss: 5.0515 - val_accuracy: 0.0997\n",
      "Epoch 66/100\n",
      "375/375 [==============================] - 2s 4ms/step - loss: 0.8337 - accuracy: 0.7261 - val_loss: 5.1318 - val_accuracy: 0.1012\n",
      "Epoch 67/100\n",
      "375/375 [==============================] - 2s 4ms/step - loss: 0.8181 - accuracy: 0.7318 - val_loss: 5.1931 - val_accuracy: 0.1009\n",
      "Epoch 68/100\n",
      "375/375 [==============================] - 1s 4ms/step - loss: 0.8073 - accuracy: 0.7331 - val_loss: 5.2220 - val_accuracy: 0.1028\n",
      "Epoch 69/100\n",
      "375/375 [==============================] - 1s 4ms/step - loss: 0.7941 - accuracy: 0.7398 - val_loss: 5.3088 - val_accuracy: 0.1004\n",
      "Epoch 70/100\n",
      "375/375 [==============================] - 1s 4ms/step - loss: 0.7829 - accuracy: 0.7448 - val_loss: 5.3738 - val_accuracy: 0.1003\n",
      "Epoch 71/100\n",
      "375/375 [==============================] - 1s 4ms/step - loss: 0.7699 - accuracy: 0.7480 - val_loss: 5.4765 - val_accuracy: 0.1016\n",
      "Epoch 72/100\n",
      "375/375 [==============================] - 2s 4ms/step - loss: 0.7589 - accuracy: 0.7508 - val_loss: 5.5142 - val_accuracy: 0.1028\n",
      "Epoch 73/100\n",
      "375/375 [==============================] - 1s 4ms/step - loss: 0.7469 - accuracy: 0.7548 - val_loss: 5.5635 - val_accuracy: 0.0997\n",
      "Epoch 74/100\n",
      "375/375 [==============================] - 2s 4ms/step - loss: 0.7368 - accuracy: 0.7600 - val_loss: 5.5918 - val_accuracy: 0.0997\n",
      "Epoch 75/100\n",
      "375/375 [==============================] - 2s 4ms/step - loss: 0.7261 - accuracy: 0.7650 - val_loss: 5.6725 - val_accuracy: 0.1014\n",
      "Epoch 76/100\n",
      "375/375 [==============================] - 2s 5ms/step - loss: 0.7149 - accuracy: 0.7661 - val_loss: 5.7551 - val_accuracy: 0.0982\n",
      "Epoch 77/100\n",
      "375/375 [==============================] - 2s 5ms/step - loss: 0.7045 - accuracy: 0.7705 - val_loss: 5.7896 - val_accuracy: 0.1013\n",
      "Epoch 78/100\n",
      "375/375 [==============================] - 2s 5ms/step - loss: 0.6910 - accuracy: 0.7751 - val_loss: 5.8679 - val_accuracy: 0.0996\n",
      "Epoch 79/100\n",
      "375/375 [==============================] - 2s 5ms/step - loss: 0.6853 - accuracy: 0.7767 - val_loss: 5.9911 - val_accuracy: 0.0997\n",
      "Epoch 80/100\n",
      "375/375 [==============================] - 2s 5ms/step - loss: 0.6736 - accuracy: 0.7805 - val_loss: 5.9759 - val_accuracy: 0.1036\n",
      "Epoch 81/100\n",
      "375/375 [==============================] - 2s 5ms/step - loss: 0.6646 - accuracy: 0.7826 - val_loss: 6.0790 - val_accuracy: 0.0991\n",
      "Epoch 82/100\n",
      "375/375 [==============================] - 2s 5ms/step - loss: 0.6537 - accuracy: 0.7887 - val_loss: 6.1283 - val_accuracy: 0.1009\n",
      "Epoch 83/100\n",
      "375/375 [==============================] - 2s 5ms/step - loss: 0.6463 - accuracy: 0.7906 - val_loss: 6.2121 - val_accuracy: 0.1021\n",
      "Epoch 84/100\n",
      "375/375 [==============================] - 2s 5ms/step - loss: 0.6339 - accuracy: 0.7946 - val_loss: 6.3019 - val_accuracy: 0.0990\n",
      "Epoch 85/100\n",
      "375/375 [==============================] - 2s 5ms/step - loss: 0.6272 - accuracy: 0.7966 - val_loss: 6.3109 - val_accuracy: 0.1013\n",
      "Epoch 86/100\n",
      "375/375 [==============================] - 2s 4ms/step - loss: 0.6190 - accuracy: 0.7988 - val_loss: 6.3926 - val_accuracy: 0.1015\n",
      "Epoch 87/100\n",
      "375/375 [==============================] - 2s 4ms/step - loss: 0.6085 - accuracy: 0.8034 - val_loss: 6.4724 - val_accuracy: 0.1027\n",
      "Epoch 88/100\n",
      "375/375 [==============================] - 2s 4ms/step - loss: 0.5995 - accuracy: 0.8077 - val_loss: 6.5479 - val_accuracy: 0.1000\n",
      "Epoch 89/100\n",
      "375/375 [==============================] - 1s 4ms/step - loss: 0.5921 - accuracy: 0.8070 - val_loss: 6.6154 - val_accuracy: 0.1021\n",
      "Epoch 90/100\n",
      "375/375 [==============================] - 1s 4ms/step - loss: 0.5811 - accuracy: 0.8124 - val_loss: 6.6705 - val_accuracy: 0.1000\n",
      "Epoch 91/100\n",
      "375/375 [==============================] - 1s 4ms/step - loss: 0.5752 - accuracy: 0.8148 - val_loss: 6.7685 - val_accuracy: 0.0992\n",
      "Epoch 92/100\n",
      "375/375 [==============================] - 1s 4ms/step - loss: 0.5671 - accuracy: 0.8166 - val_loss: 6.8105 - val_accuracy: 0.1023\n",
      "Epoch 93/100\n",
      "375/375 [==============================] - 1s 4ms/step - loss: 0.5571 - accuracy: 0.8217 - val_loss: 6.8937 - val_accuracy: 0.1005\n",
      "Epoch 94/100\n",
      "375/375 [==============================] - 1s 4ms/step - loss: 0.5505 - accuracy: 0.8227 - val_loss: 6.9668 - val_accuracy: 0.1004\n",
      "Epoch 95/100\n",
      "375/375 [==============================] - 1s 4ms/step - loss: 0.5414 - accuracy: 0.8267 - val_loss: 6.9899 - val_accuracy: 0.0994\n",
      "Epoch 96/100\n",
      "375/375 [==============================] - 1s 4ms/step - loss: 0.5359 - accuracy: 0.8274 - val_loss: 7.0765 - val_accuracy: 0.1013\n",
      "Epoch 97/100\n",
      "375/375 [==============================] - 1s 4ms/step - loss: 0.5280 - accuracy: 0.8299 - val_loss: 7.1295 - val_accuracy: 0.0974\n",
      "Epoch 98/100\n",
      "375/375 [==============================] - 2s 4ms/step - loss: 0.5201 - accuracy: 0.8336 - val_loss: 7.1894 - val_accuracy: 0.1012\n",
      "Epoch 99/100\n",
      "375/375 [==============================] - 1s 4ms/step - loss: 0.5142 - accuracy: 0.8363 - val_loss: 7.3118 - val_accuracy: 0.0993\n",
      "Epoch 100/100\n",
      "375/375 [==============================] - 2s 4ms/step - loss: 0.5055 - accuracy: 0.8375 - val_loss: 7.3680 - val_accuracy: 0.1000\n"
     ]
    },
    {
     "data": {
      "text/plain": [
       "<keras.callbacks.History at 0x7fc156a1ed68>"
      ]
     },
     "execution_count": 4,
     "metadata": {},
     "output_type": "execute_result"
    }
   ],
   "source": [
    "(train_images, train_labels), _ = mnist.load_data()\n",
    "train_images = train_images.reshape((60000, 28 * 28))\n",
    "train_images = train_images.astype(\"float32\") / 255\n",
    "\n",
    "random_train_labels = train_labels[:]\n",
    "np.random.shuffle(random_train_labels)\n",
    "\n",
    "model = keras.Sequential([\n",
    "    layers.Dense(512, activation=\"relu\"),\n",
    "    layers.Dense(10, activation=\"softmax\")\n",
    "])\n",
    "model.compile(optimizer=\"rmsprop\",\n",
    "              loss=\"sparse_categorical_crossentropy\",\n",
    "              metrics=[\"accuracy\"])\n",
    "model.fit(train_images, random_train_labels,\n",
    "          epochs=100,\n",
    "          batch_size=128,\n",
    "          validation_split=0.2)"
   ]
  },
  {
   "cell_type": "markdown",
   "metadata": {
    "colab_type": "text"
   },
   "source": [
    "#### The manifold hypothesis"
   ]
  },
  {
   "cell_type": "markdown",
   "metadata": {
    "colab_type": "text"
   },
   "source": [
    "#### Interpolation as a source of generalization"
   ]
  },
  {
   "cell_type": "markdown",
   "metadata": {
    "colab_type": "text"
   },
   "source": [
    "#### Why deep learning works"
   ]
  },
  {
   "cell_type": "markdown",
   "metadata": {
    "colab_type": "text"
   },
   "source": [
    "#### Training data is paramount"
   ]
  },
  {
   "cell_type": "markdown",
   "metadata": {
    "colab_type": "text"
   },
   "source": [
    "## Evaluating machine-learning models"
   ]
  },
  {
   "cell_type": "markdown",
   "metadata": {
    "colab_type": "text"
   },
   "source": [
    "### Training, validation, and test sets"
   ]
  },
  {
   "cell_type": "markdown",
   "metadata": {
    "colab_type": "text"
   },
   "source": [
    "#### Simple hold-out validation"
   ]
  },
  {
   "cell_type": "markdown",
   "metadata": {
    "colab_type": "text"
   },
   "source": [
    "#### K-fold validation"
   ]
  },
  {
   "cell_type": "markdown",
   "metadata": {
    "colab_type": "text"
   },
   "source": [
    "#### Iterated K-fold validation with shuffling"
   ]
  },
  {
   "cell_type": "markdown",
   "metadata": {
    "colab_type": "text"
   },
   "source": [
    "### Beating a common-sense baseline"
   ]
  },
  {
   "cell_type": "markdown",
   "metadata": {
    "colab_type": "text"
   },
   "source": [
    "### Things to keep in mind about model evaluation"
   ]
  },
  {
   "cell_type": "markdown",
   "metadata": {
    "colab_type": "text"
   },
   "source": [
    "## Improving model fit"
   ]
  },
  {
   "cell_type": "markdown",
   "metadata": {
    "colab_type": "text"
   },
   "source": [
    "### Tuning key gradient descent parameters"
   ]
  },
  {
   "cell_type": "markdown",
   "metadata": {
    "colab_type": "text"
   },
   "source": [
    "**Training a MNIST model with an incorrectly high learning rate**"
   ]
  },
  {
   "cell_type": "code",
   "execution_count": 5,
   "metadata": {
    "colab_type": "code"
   },
   "outputs": [
    {
     "name": "stdout",
     "output_type": "stream",
     "text": [
      "Epoch 1/10\n",
      "375/375 [==============================] - 1s 3ms/step - loss: 1154.7906 - accuracy: 0.4297 - val_loss: 2.0853 - val_accuracy: 0.3083\n",
      "Epoch 2/10\n",
      "375/375 [==============================] - 1s 3ms/step - loss: 4.3056 - accuracy: 0.3195 - val_loss: 3.3618 - val_accuracy: 0.2767\n",
      "Epoch 3/10\n",
      "375/375 [==============================] - 1s 3ms/step - loss: 2.9163 - accuracy: 0.3107 - val_loss: 2.2821 - val_accuracy: 0.3622\n",
      "Epoch 4/10\n",
      "375/375 [==============================] - 1s 3ms/step - loss: 2.8953 - accuracy: 0.2950 - val_loss: 2.7679 - val_accuracy: 0.3620\n",
      "Epoch 5/10\n",
      "375/375 [==============================] - 1s 3ms/step - loss: 2.9759 - accuracy: 0.2924 - val_loss: 1.9348 - val_accuracy: 0.2840\n",
      "Epoch 6/10\n",
      "375/375 [==============================] - 1s 3ms/step - loss: 2.6346 - accuracy: 0.2918 - val_loss: 2.0249 - val_accuracy: 0.2534\n",
      "Epoch 7/10\n",
      "375/375 [==============================] - 1s 3ms/step - loss: 2.6678 - accuracy: 0.2949 - val_loss: 1.9493 - val_accuracy: 0.2603\n",
      "Epoch 8/10\n",
      "375/375 [==============================] - 1s 3ms/step - loss: 2.7168 - accuracy: 0.2840 - val_loss: 2.4809 - val_accuracy: 0.2940\n",
      "Epoch 9/10\n",
      "375/375 [==============================] - 1s 3ms/step - loss: 2.5445 - accuracy: 0.2971 - val_loss: 2.1392 - val_accuracy: 0.3115\n",
      "Epoch 10/10\n",
      "375/375 [==============================] - 1s 4ms/step - loss: 2.5994 - accuracy: 0.2717 - val_loss: 2.3798 - val_accuracy: 0.2644\n"
     ]
    },
    {
     "data": {
      "text/plain": [
       "<keras.callbacks.History at 0x7fc1572e7e48>"
      ]
     },
     "execution_count": 5,
     "metadata": {},
     "output_type": "execute_result"
    }
   ],
   "source": [
    "(train_images, train_labels), _ = mnist.load_data()\n",
    "train_images = train_images.reshape((60000, 28 * 28))\n",
    "train_images = train_images.astype(\"float32\") / 255\n",
    "\n",
    "model = keras.Sequential([\n",
    "    layers.Dense(512, activation=\"relu\"),\n",
    "    layers.Dense(10, activation=\"softmax\")\n",
    "])\n",
    "model.compile(optimizer=keras.optimizers.RMSprop(1.),\n",
    "              loss=\"sparse_categorical_crossentropy\",\n",
    "              metrics=[\"accuracy\"])\n",
    "model.fit(train_images, train_labels,\n",
    "          epochs=10,\n",
    "          batch_size=128,\n",
    "          validation_split=0.2)"
   ]
  },
  {
   "cell_type": "markdown",
   "metadata": {
    "colab_type": "text"
   },
   "source": [
    "**The same model with a more appropriate learning rate**"
   ]
  },
  {
   "cell_type": "code",
   "execution_count": 6,
   "metadata": {
    "colab_type": "code"
   },
   "outputs": [
    {
     "name": "stdout",
     "output_type": "stream",
     "text": [
      "Epoch 1/10\n",
      "375/375 [==============================] - 2s 3ms/step - loss: 0.3626 - accuracy: 0.9126 - val_loss: 0.1781 - val_accuracy: 0.9550\n",
      "Epoch 2/10\n",
      "375/375 [==============================] - 1s 3ms/step - loss: 0.1384 - accuracy: 0.9643 - val_loss: 0.1636 - val_accuracy: 0.9628\n",
      "Epoch 3/10\n",
      "375/375 [==============================] - 1s 3ms/step - loss: 0.1155 - accuracy: 0.9728 - val_loss: 0.1628 - val_accuracy: 0.9710\n",
      "Epoch 4/10\n",
      "375/375 [==============================] - 1s 3ms/step - loss: 0.0992 - accuracy: 0.9788 - val_loss: 0.1894 - val_accuracy: 0.9688\n",
      "Epoch 5/10\n",
      "375/375 [==============================] - 1s 3ms/step - loss: 0.0871 - accuracy: 0.9813 - val_loss: 0.2148 - val_accuracy: 0.9688\n",
      "Epoch 6/10\n",
      "375/375 [==============================] - 1s 3ms/step - loss: 0.0789 - accuracy: 0.9846 - val_loss: 0.2403 - val_accuracy: 0.9691\n",
      "Epoch 7/10\n",
      "375/375 [==============================] - 1s 3ms/step - loss: 0.0715 - accuracy: 0.9863 - val_loss: 0.2534 - val_accuracy: 0.9692\n",
      "Epoch 8/10\n",
      "375/375 [==============================] - 1s 3ms/step - loss: 0.0614 - accuracy: 0.9880 - val_loss: 0.2745 - val_accuracy: 0.9681\n",
      "Epoch 9/10\n",
      "375/375 [==============================] - 1s 3ms/step - loss: 0.0629 - accuracy: 0.9892 - val_loss: 0.2923 - val_accuracy: 0.9703\n",
      "Epoch 10/10\n",
      "375/375 [==============================] - 1s 3ms/step - loss: 0.0603 - accuracy: 0.9900 - val_loss: 0.2647 - val_accuracy: 0.9743\n"
     ]
    },
    {
     "data": {
      "text/plain": [
       "<keras.callbacks.History at 0x7fc14fefdba8>"
      ]
     },
     "execution_count": 6,
     "metadata": {},
     "output_type": "execute_result"
    }
   ],
   "source": [
    "model = keras.Sequential([\n",
    "    layers.Dense(512, activation=\"relu\"),\n",
    "    layers.Dense(10, activation=\"softmax\")\n",
    "])\n",
    "model.compile(optimizer=keras.optimizers.RMSprop(1e-2),\n",
    "              loss=\"sparse_categorical_crossentropy\",\n",
    "              metrics=[\"accuracy\"])\n",
    "model.fit(train_images, train_labels,\n",
    "          epochs=10,\n",
    "          batch_size=128,\n",
    "          validation_split=0.2)"
   ]
  },
  {
   "cell_type": "markdown",
   "metadata": {
    "colab_type": "text"
   },
   "source": [
    "### Leveraging better architecture priors"
   ]
  },
  {
   "cell_type": "markdown",
   "metadata": {
    "colab_type": "text"
   },
   "source": [
    "### Increasing model capacity"
   ]
  },
  {
   "cell_type": "markdown",
   "metadata": {
    "colab_type": "text"
   },
   "source": [
    "**A simple logistic regression on MNIST**"
   ]
  },
  {
   "cell_type": "code",
   "execution_count": 7,
   "metadata": {
    "colab_type": "code"
   },
   "outputs": [
    {
     "name": "stdout",
     "output_type": "stream",
     "text": [
      "Epoch 1/20\n",
      "375/375 [==============================] - 1s 1ms/step - loss: 0.6620 - accuracy: 0.8367 - val_loss: 0.3574 - val_accuracy: 0.9020\n",
      "Epoch 2/20\n",
      "375/375 [==============================] - 0s 912us/step - loss: 0.3502 - accuracy: 0.9034 - val_loss: 0.3055 - val_accuracy: 0.9165\n",
      "Epoch 3/20\n",
      "375/375 [==============================] - 0s 863us/step - loss: 0.3152 - accuracy: 0.9121 - val_loss: 0.2904 - val_accuracy: 0.9197\n",
      "Epoch 4/20\n",
      "375/375 [==============================] - 0s 881us/step - loss: 0.2991 - accuracy: 0.9168 - val_loss: 0.2804 - val_accuracy: 0.9246\n",
      "Epoch 5/20\n",
      "375/375 [==============================] - 0s 917us/step - loss: 0.2896 - accuracy: 0.9189 - val_loss: 0.2765 - val_accuracy: 0.9250\n",
      "Epoch 6/20\n",
      "375/375 [==============================] - 0s 972us/step - loss: 0.2827 - accuracy: 0.9215 - val_loss: 0.2727 - val_accuracy: 0.9249\n",
      "Epoch 7/20\n",
      "375/375 [==============================] - 0s 858us/step - loss: 0.2781 - accuracy: 0.9223 - val_loss: 0.2687 - val_accuracy: 0.9272\n",
      "Epoch 8/20\n",
      "375/375 [==============================] - 0s 931us/step - loss: 0.2741 - accuracy: 0.9242 - val_loss: 0.2675 - val_accuracy: 0.9273\n",
      "Epoch 9/20\n",
      "375/375 [==============================] - 0s 877us/step - loss: 0.2710 - accuracy: 0.9245 - val_loss: 0.2652 - val_accuracy: 0.9275\n",
      "Epoch 10/20\n",
      "375/375 [==============================] - 0s 918us/step - loss: 0.2687 - accuracy: 0.9258 - val_loss: 0.2644 - val_accuracy: 0.9284\n",
      "Epoch 11/20\n",
      "375/375 [==============================] - 0s 915us/step - loss: 0.2665 - accuracy: 0.9261 - val_loss: 0.2643 - val_accuracy: 0.9273\n",
      "Epoch 12/20\n",
      "375/375 [==============================] - 0s 1ms/step - loss: 0.2649 - accuracy: 0.9267 - val_loss: 0.2628 - val_accuracy: 0.9301\n",
      "Epoch 13/20\n",
      "375/375 [==============================] - 0s 921us/step - loss: 0.2630 - accuracy: 0.9272 - val_loss: 0.2631 - val_accuracy: 0.9291\n",
      "Epoch 14/20\n",
      "375/375 [==============================] - 0s 941us/step - loss: 0.2614 - accuracy: 0.9275 - val_loss: 0.2626 - val_accuracy: 0.9301\n",
      "Epoch 15/20\n",
      "375/375 [==============================] - 0s 917us/step - loss: 0.2602 - accuracy: 0.9285 - val_loss: 0.2652 - val_accuracy: 0.9282\n",
      "Epoch 16/20\n",
      "375/375 [==============================] - 0s 945us/step - loss: 0.2592 - accuracy: 0.9290 - val_loss: 0.2607 - val_accuracy: 0.9305\n",
      "Epoch 17/20\n",
      "375/375 [==============================] - 0s 885us/step - loss: 0.2580 - accuracy: 0.9300 - val_loss: 0.2623 - val_accuracy: 0.9323\n",
      "Epoch 18/20\n",
      "375/375 [==============================] - 0s 886us/step - loss: 0.2573 - accuracy: 0.9302 - val_loss: 0.2613 - val_accuracy: 0.9298\n",
      "Epoch 19/20\n",
      "375/375 [==============================] - 0s 876us/step - loss: 0.2564 - accuracy: 0.9303 - val_loss: 0.2624 - val_accuracy: 0.9305\n",
      "Epoch 20/20\n",
      "375/375 [==============================] - 0s 876us/step - loss: 0.2552 - accuracy: 0.9303 - val_loss: 0.2609 - val_accuracy: 0.9312\n"
     ]
    }
   ],
   "source": [
    "model = keras.Sequential([layers.Dense(10, activation=\"softmax\")])\n",
    "model.compile(optimizer=\"rmsprop\",\n",
    "              loss=\"sparse_categorical_crossentropy\",\n",
    "              metrics=[\"accuracy\"])\n",
    "history_small_model = model.fit(\n",
    "    train_images, train_labels,\n",
    "    epochs=20,\n",
    "    batch_size=128,\n",
    "    validation_split=0.2)"
   ]
  },
  {
   "cell_type": "code",
   "execution_count": 8,
   "metadata": {
    "colab_type": "code"
   },
   "outputs": [
    {
     "data": {
      "text/plain": [
       "<matplotlib.legend.Legend at 0x7fc140d899b0>"
      ]
     },
     "execution_count": 8,
     "metadata": {},
     "output_type": "execute_result"
    },
    {
     "data": {
      "image/png": "[encoded data removed]",
      "text/plain": [
       "<Figure size 432x288 with 1 Axes>"
      ]
     },
     "metadata": {
      "needs_background": "light"
     },
     "output_type": "display_data"
    }
   ],
   "source": [
    "import matplotlib.pyplot as plt\n",
    "val_loss = history_small_model.history[\"val_loss\"]\n",
    "epochs = range(1, 21)\n",
    "plt.plot(epochs, val_loss, \"b--\",\n",
    "         label=\"Validation loss\")\n",
    "plt.title(\"Effect of insufficient model capacity on validation loss\")\n",
    "plt.xlabel(\"Epochs\")\n",
    "plt.ylabel(\"Loss\")\n",
    "plt.legend()"
   ]
  },
  {
   "cell_type": "code",
   "execution_count": 9,
   "metadata": {
    "colab_type": "code"
   },
   "outputs": [
    {
     "name": "stdout",
     "output_type": "stream",
     "text": [
      "Epoch 1/20\n",
      "375/375 [==============================] - 1s 2ms/step - loss: 0.3660 - accuracy: 0.8961 - val_loss: 0.1933 - val_accuracy: 0.9444\n",
      "Epoch 2/20\n",
      "375/375 [==============================] - 1s 1ms/step - loss: 0.1633 - accuracy: 0.9510 - val_loss: 0.1460 - val_accuracy: 0.9569\n",
      "Epoch 3/20\n",
      "375/375 [==============================] - 1s 1ms/step - loss: 0.1143 - accuracy: 0.9654 - val_loss: 0.1189 - val_accuracy: 0.9644\n",
      "Epoch 4/20\n",
      "375/375 [==============================] - 1s 1ms/step - loss: 0.0887 - accuracy: 0.9739 - val_loss: 0.1099 - val_accuracy: 0.9681\n",
      "Epoch 5/20\n",
      "375/375 [==============================] - 1s 1ms/step - loss: 0.0705 - accuracy: 0.9784 - val_loss: 0.0979 - val_accuracy: 0.9722\n",
      "Epoch 6/20\n",
      "375/375 [==============================] - 1s 1ms/step - loss: 0.0588 - accuracy: 0.9823 - val_loss: 0.0975 - val_accuracy: 0.9732\n",
      "Epoch 7/20\n",
      "375/375 [==============================] - 1s 1ms/step - loss: 0.0484 - accuracy: 0.9858 - val_loss: 0.0939 - val_accuracy: 0.9742\n",
      "Epoch 8/20\n",
      "375/375 [==============================] - 1s 1ms/step - loss: 0.0396 - accuracy: 0.9877 - val_loss: 0.0938 - val_accuracy: 0.9743\n",
      "Epoch 9/20\n",
      "375/375 [==============================] - 1s 1ms/step - loss: 0.0342 - accuracy: 0.9900 - val_loss: 0.1050 - val_accuracy: 0.9726\n",
      "Epoch 10/20\n",
      "375/375 [==============================] - 1s 2ms/step - loss: 0.0284 - accuracy: 0.9911 - val_loss: 0.1130 - val_accuracy: 0.9702\n",
      "Epoch 11/20\n",
      "375/375 [==============================] - 1s 2ms/step - loss: 0.0238 - accuracy: 0.9927 - val_loss: 0.0994 - val_accuracy: 0.9757\n",
      "Epoch 12/20\n",
      "375/375 [==============================] - 1s 1ms/step - loss: 0.0208 - accuracy: 0.9933 - val_loss: 0.1058 - val_accuracy: 0.9745\n",
      "Epoch 13/20\n",
      "375/375 [==============================] - 1s 1ms/step - loss: 0.0171 - accuracy: 0.9943 - val_loss: 0.1074 - val_accuracy: 0.9768\n",
      "Epoch 14/20\n",
      "375/375 [==============================] - 1s 1ms/step - loss: 0.0148 - accuracy: 0.9952 - val_loss: 0.1195 - val_accuracy: 0.9758\n",
      "Epoch 15/20\n",
      "375/375 [==============================] - 1s 1ms/step - loss: 0.0128 - accuracy: 0.9961 - val_loss: 0.1153 - val_accuracy: 0.9743\n",
      "Epoch 16/20\n",
      "375/375 [==============================] - 1s 1ms/step - loss: 0.0109 - accuracy: 0.9969 - val_loss: 0.1276 - val_accuracy: 0.9739\n",
      "Epoch 17/20\n",
      "375/375 [==============================] - 1s 1ms/step - loss: 0.0093 - accuracy: 0.9972 - val_loss: 0.1392 - val_accuracy: 0.9746\n",
      "Epoch 18/20\n",
      "375/375 [==============================] - 1s 1ms/step - loss: 0.0083 - accuracy: 0.9973 - val_loss: 0.1323 - val_accuracy: 0.9762\n",
      "Epoch 19/20\n",
      "375/375 [==============================] - 1s 1ms/step - loss: 0.0069 - accuracy: 0.9976 - val_loss: 0.1449 - val_accuracy: 0.9744\n",
      "Epoch 20/20\n",
      "375/375 [==============================] - 1s 1ms/step - loss: 0.0062 - accuracy: 0.9981 - val_loss: 0.1443 - val_accuracy: 0.9756\n"
     ]
    }
   ],
   "source": [
    "model = keras.Sequential([\n",
    "    layers.Dense(96, activation=\"relu\"),\n",
    "    layers.Dense(96, activation=\"relu\"),\n",
    "    layers.Dense(10, activation=\"softmax\"),\n",
    "])\n",
    "model.compile(optimizer=\"rmsprop\",\n",
    "              loss=\"sparse_categorical_crossentropy\",\n",
    "              metrics=[\"accuracy\"])\n",
    "history_large_model = model.fit(\n",
    "    train_images, train_labels,\n",
    "    epochs=20,\n",
    "    batch_size=128,\n",
    "    validation_split=0.2)"
   ]
  },
  {
   "cell_type": "code",
   "execution_count": 10,
   "metadata": {},
   "outputs": [
    {
     "data": {
      "text/plain": [
       "<matplotlib.legend.Legend at 0x7fc141dea438>"
      ]
     },
     "execution_count": 10,
     "metadata": {},
     "output_type": "execute_result"
    },
    {
     "data": {
      "image/png": "[encoded data removed]",
      "text/plain": [
       "<Figure size 432x288 with 1 Axes>"
      ]
     },
     "metadata": {
      "needs_background": "light"
     },
     "output_type": "display_data"
    }
   ],
   "source": [
    "import matplotlib.pyplot as plt\n",
    "val_loss = history_large_model.history[\"val_loss\"]\n",
    "epochs = range(1, 21)\n",
    "plt.plot(epochs, val_loss, \"b--\",\n",
    "         label=\"Validation loss\")\n",
    "plt.title(\"Effect of insufficient model capacity on validation loss\")\n",
    "plt.xlabel(\"Epochs\")\n",
    "plt.ylabel(\"Loss\")\n",
    "plt.legend()"
   ]
  },
  {
   "cell_type": "markdown",
   "metadata": {
    "colab_type": "text"
   },
   "source": [
    "## Improving generalization"
   ]
  },
  {
   "cell_type": "markdown",
   "metadata": {
    "colab_type": "text"
   },
   "source": [
    "### Dataset curation"
   ]
  },
  {
   "cell_type": "markdown",
   "metadata": {
    "colab_type": "text"
   },
   "source": [
    "### Feature engineering"
   ]
  },
  {
   "cell_type": "markdown",
   "metadata": {
    "colab_type": "text"
   },
   "source": [
    "### Using early stopping"
   ]
  },
  {
   "cell_type": "markdown",
   "metadata": {
    "colab_type": "text"
   },
   "source": [
    "### Regularizing your model"
   ]
  },
  {
   "cell_type": "markdown",
   "metadata": {
    "colab_type": "text"
   },
   "source": [
    "#### Reducing the network's size"
   ]
  },
  {
   "cell_type": "markdown",
   "metadata": {
    "colab_type": "text"
   },
   "source": [
    "**Original model**"
   ]
  },
  {
   "cell_type": "code",
   "execution_count": 11,
   "metadata": {
    "colab_type": "code"
   },
   "outputs": [
    {
     "name": "stdout",
     "output_type": "stream",
     "text": [
      "Downloading data from https://storage.googleapis.com/tensorflow/tf-keras-datasets/imdb.npz\n",
      "17465344/17464789 [==============================] - 1s 0us/step\n",
      "17473536/17464789 [==============================] - 1s 0us/step\n",
      "Epoch 1/20\n",
      "30/30 [==============================] - 3s 72ms/step - loss: 0.5036 - accuracy: 0.7873 - val_loss: 0.3730 - val_accuracy: 0.8739\n",
      "Epoch 2/20\n",
      "30/30 [==============================] - 0s 13ms/step - loss: 0.2927 - accuracy: 0.9059 - val_loss: 0.3030 - val_accuracy: 0.8849\n",
      "Epoch 3/20\n",
      "30/30 [==============================] - 0s 13ms/step - loss: 0.2124 - accuracy: 0.9311 - val_loss: 0.3260 - val_accuracy: 0.8678\n",
      "Epoch 4/20\n",
      "30/30 [==============================] - 0s 12ms/step - loss: 0.1669 - accuracy: 0.9450 - val_loss: 0.2917 - val_accuracy: 0.8821\n",
      "Epoch 5/20\n",
      "30/30 [==============================] - 0s 12ms/step - loss: 0.1345 - accuracy: 0.9583 - val_loss: 0.2867 - val_accuracy: 0.8886\n",
      "Epoch 6/20\n",
      "30/30 [==============================] - 0s 11ms/step - loss: 0.1148 - accuracy: 0.9626 - val_loss: 0.3127 - val_accuracy: 0.8832\n",
      "Epoch 7/20\n",
      "30/30 [==============================] - 0s 12ms/step - loss: 0.0958 - accuracy: 0.9715 - val_loss: 0.3215 - val_accuracy: 0.8827\n",
      "Epoch 8/20\n",
      "30/30 [==============================] - 0s 11ms/step - loss: 0.0799 - accuracy: 0.9777 - val_loss: 0.3417 - val_accuracy: 0.8816\n",
      "Epoch 9/20\n",
      "30/30 [==============================] - 0s 11ms/step - loss: 0.0668 - accuracy: 0.9825 - val_loss: 0.3670 - val_accuracy: 0.8792\n",
      "Epoch 10/20\n",
      "30/30 [==============================] - 0s 11ms/step - loss: 0.0578 - accuracy: 0.9850 - val_loss: 0.4216 - val_accuracy: 0.8699\n",
      "Epoch 11/20\n",
      "30/30 [==============================] - 0s 11ms/step - loss: 0.0479 - accuracy: 0.9874 - val_loss: 0.4330 - val_accuracy: 0.8729\n",
      "Epoch 12/20\n",
      "30/30 [==============================] - 0s 11ms/step - loss: 0.0366 - accuracy: 0.9924 - val_loss: 0.4603 - val_accuracy: 0.8725\n",
      "Epoch 13/20\n",
      "30/30 [==============================] - 0s 11ms/step - loss: 0.0364 - accuracy: 0.9902 - val_loss: 0.4800 - val_accuracy: 0.8721\n",
      "Epoch 14/20\n",
      "30/30 [==============================] - 0s 11ms/step - loss: 0.0241 - accuracy: 0.9954 - val_loss: 0.5139 - val_accuracy: 0.8699\n",
      "Epoch 15/20\n",
      "30/30 [==============================] - 0s 11ms/step - loss: 0.0217 - accuracy: 0.9961 - val_loss: 0.5509 - val_accuracy: 0.8685\n",
      "Epoch 16/20\n",
      "30/30 [==============================] - 0s 11ms/step - loss: 0.0187 - accuracy: 0.9963 - val_loss: 0.6047 - val_accuracy: 0.8657\n",
      "Epoch 17/20\n",
      "30/30 [==============================] - 0s 14ms/step - loss: 0.0137 - accuracy: 0.9981 - val_loss: 0.6159 - val_accuracy: 0.8674\n",
      "Epoch 18/20\n",
      "30/30 [==============================] - 0s 11ms/step - loss: 0.0129 - accuracy: 0.9979 - val_loss: 0.6577 - val_accuracy: 0.8651\n",
      "Epoch 19/20\n",
      "30/30 [==============================] - 0s 11ms/step - loss: 0.0069 - accuracy: 0.9995 - val_loss: 0.7002 - val_accuracy: 0.8634\n",
      "Epoch 20/20\n",
      "30/30 [==============================] - 0s 11ms/step - loss: 0.0086 - accuracy: 0.9990 - val_loss: 0.7484 - val_accuracy: 0.8618\n"
     ]
    }
   ],
   "source": [
    "from tensorflow.keras.datasets import imdb\n",
    "(train_data, train_labels), _ = imdb.load_data(num_words=10000)\n",
    "\n",
    "def vectorize_sequences(sequences, dimension=10000):\n",
    "    results = np.zeros((len(sequences), dimension))\n",
    "    for i, sequence in enumerate(sequences):\n",
    "        results[i, sequence] = 1.\n",
    "    return results\n",
    "train_data = vectorize_sequences(train_data)\n",
    "\n",
    "model = keras.Sequential([\n",
    "    layers.Dense(16, activation=\"relu\"),\n",
    "    layers.Dense(16, activation=\"relu\"),\n",
    "    layers.Dense(1, activation=\"sigmoid\")\n",
    "])\n",
    "model.compile(optimizer=\"rmsprop\",\n",
    "              loss=\"binary_crossentropy\",\n",
    "              metrics=[\"accuracy\"])\n",
    "history_original = model.fit(train_data, train_labels,\n",
    "                             epochs=20, batch_size=512, validation_split=0.4)"
   ]
  },
  {
   "cell_type": "markdown",
   "metadata": {
    "colab_type": "text"
   },
   "source": [
    "**Version of the model with lower capacity**"
   ]
  },
  {
   "cell_type": "code",
   "execution_count": 12,
   "metadata": {
    "colab_type": "code"
   },
   "outputs": [
    {
     "name": "stdout",
     "output_type": "stream",
     "text": [
      "Epoch 1/20\n",
      "30/30 [==============================] - 3s 72ms/step - loss: 0.5507 - accuracy: 0.7831 - val_loss: 0.4519 - val_accuracy: 0.8543\n",
      "Epoch 2/20\n",
      "30/30 [==============================] - 0s 12ms/step - loss: 0.3840 - accuracy: 0.8879 - val_loss: 0.3659 - val_accuracy: 0.8762\n",
      "Epoch 3/20\n",
      "30/30 [==============================] - 0s 11ms/step - loss: 0.3011 - accuracy: 0.9085 - val_loss: 0.3214 - val_accuracy: 0.8846\n",
      "Epoch 4/20\n",
      "30/30 [==============================] - 0s 11ms/step - loss: 0.2474 - accuracy: 0.9249 - val_loss: 0.2948 - val_accuracy: 0.8871\n",
      "Epoch 5/20\n",
      "30/30 [==============================] - 0s 11ms/step - loss: 0.2102 - accuracy: 0.9356 - val_loss: 0.2797 - val_accuracy: 0.8931\n",
      "Epoch 6/20\n",
      "30/30 [==============================] - 0s 11ms/step - loss: 0.1826 - accuracy: 0.9444 - val_loss: 0.2759 - val_accuracy: 0.8908\n",
      "Epoch 7/20\n",
      "30/30 [==============================] - 0s 11ms/step - loss: 0.1604 - accuracy: 0.9503 - val_loss: 0.2728 - val_accuracy: 0.8927\n",
      "Epoch 8/20\n",
      "30/30 [==============================] - 0s 10ms/step - loss: 0.1408 - accuracy: 0.9594 - val_loss: 0.2753 - val_accuracy: 0.8896\n",
      "Epoch 9/20\n",
      "30/30 [==============================] - 0s 10ms/step - loss: 0.1259 - accuracy: 0.9638 - val_loss: 0.2836 - val_accuracy: 0.8862\n",
      "Epoch 10/20\n",
      "30/30 [==============================] - 0s 10ms/step - loss: 0.1127 - accuracy: 0.9676 - val_loss: 0.2887 - val_accuracy: 0.8868\n",
      "Epoch 11/20\n",
      "30/30 [==============================] - 0s 14ms/step - loss: 0.1007 - accuracy: 0.9723 - val_loss: 0.2963 - val_accuracy: 0.8856\n",
      "Epoch 12/20\n",
      "30/30 [==============================] - 0s 10ms/step - loss: 0.0905 - accuracy: 0.9747 - val_loss: 0.3101 - val_accuracy: 0.8841\n",
      "Epoch 13/20\n",
      "30/30 [==============================] - 0s 10ms/step - loss: 0.0806 - accuracy: 0.9788 - val_loss: 0.3301 - val_accuracy: 0.8805\n",
      "Epoch 14/20\n",
      "30/30 [==============================] - 0s 10ms/step - loss: 0.0731 - accuracy: 0.9813 - val_loss: 0.3344 - val_accuracy: 0.8812\n",
      "Epoch 15/20\n",
      "30/30 [==============================] - 0s 10ms/step - loss: 0.0654 - accuracy: 0.9849 - val_loss: 0.3461 - val_accuracy: 0.8818\n",
      "Epoch 16/20\n",
      "30/30 [==============================] - 0s 10ms/step - loss: 0.0586 - accuracy: 0.9864 - val_loss: 0.3751 - val_accuracy: 0.8772\n",
      "Epoch 17/20\n",
      "30/30 [==============================] - 0s 10ms/step - loss: 0.0526 - accuracy: 0.9879 - val_loss: 0.3856 - val_accuracy: 0.8754\n",
      "Epoch 18/20\n",
      "30/30 [==============================] - 0s 10ms/step - loss: 0.0468 - accuracy: 0.9897 - val_loss: 0.3948 - val_accuracy: 0.8766\n",
      "Epoch 19/20\n",
      "30/30 [==============================] - 0s 10ms/step - loss: 0.0415 - accuracy: 0.9912 - val_loss: 0.4135 - val_accuracy: 0.8766\n",
      "Epoch 20/20\n",
      "30/30 [==============================] - 0s 10ms/step - loss: 0.0371 - accuracy: 0.9922 - val_loss: 0.4381 - val_accuracy: 0.8730\n"
     ]
    }
   ],
   "source": [
    "model = keras.Sequential([\n",
    "    layers.Dense(4, activation=\"relu\"),\n",
    "    layers.Dense(4, activation=\"relu\"),\n",
    "    layers.Dense(1, activation=\"sigmoid\")\n",
    "])\n",
    "model.compile(optimizer=\"rmsprop\",\n",
    "              loss=\"binary_crossentropy\",\n",
    "              metrics=[\"accuracy\"])\n",
    "history_smaller_model = model.fit(\n",
    "    train_data, train_labels,\n",
    "    epochs=20, batch_size=512, validation_split=0.4)"
   ]
  },
  {
   "cell_type": "markdown",
   "metadata": {
    "colab_type": "text"
   },
   "source": [
    "**Version of the model with higher capacity**"
   ]
  },
  {
   "cell_type": "code",
   "execution_count": null,
   "metadata": {
    "colab_type": "code"
   },
   "outputs": [],
   "source": [
    "model = keras.Sequential([\n",
    "    layers.Dense(512, activation=\"relu\"),\n",
    "    layers.Dense(512, activation=\"relu\"),\n",
    "    layers.Dense(1, activation=\"sigmoid\")\n",
    "])\n",
    "model.compile(optimizer=\"rmsprop\",\n",
    "              loss=\"binary_crossentropy\",\n",
    "              metrics=[\"accuracy\"])\n",
    "history_larger_model = model.fit(\n",
    "    train_data, train_labels,\n",
    "    epochs=20, batch_size=512, validation_split=0.4)"
   ]
  },
  {
   "cell_type": "markdown",
   "metadata": {
    "colab_type": "text"
   },
   "source": [
    "#### Adding weight regularization"
   ]
  },
  {
   "cell_type": "markdown",
   "metadata": {
    "colab_type": "text"
   },
   "source": [
    "**Adding L2 weight regularization to the model**"
   ]
  },
  {
   "cell_type": "code",
   "execution_count": null,
   "metadata": {
    "colab_type": "code"
   },
   "outputs": [],
   "source": [
    "from tensorflow.keras import regularizers\n",
    "model = keras.Sequential([\n",
    "    layers.Dense(16,\n",
    "                 kernel_regularizer=regularizers.l2(0.002),\n",
    "                 activation=\"relu\"),\n",
    "    layers.Dense(16,\n",
    "                 kernel_regularizer=regularizers.l2(0.002),\n",
    "                 activation=\"relu\"),\n",
    "    layers.Dense(1, activation=\"sigmoid\")\n",
    "])\n",
    "model.compile(optimizer=\"rmsprop\",\n",
    "              loss=\"binary_crossentropy\",\n",
    "              metrics=[\"accuracy\"])\n",
    "history_l2_reg = model.fit(\n",
    "    train_data, train_labels,\n",
    "    epochs=20, batch_size=512, validation_split=0.4)"
   ]
  },
  {
   "cell_type": "markdown",
   "metadata": {
    "colab_type": "text"
   },
   "source": [
    "**Different weight regularizers available in Keras**"
   ]
  },
  {
   "cell_type": "code",
   "execution_count": null,
   "metadata": {
    "colab_type": "code"
   },
   "outputs": [],
   "source": [
    "from tensorflow.keras import regularizers\n",
    "regularizers.l1(0.001)\n",
    "regularizers.l1_l2(l1=0.001, l2=0.001)"
   ]
  },
  {
   "cell_type": "markdown",
   "metadata": {
    "colab_type": "text"
   },
   "source": [
    "#### Adding dropout"
   ]
  },
  {
   "cell_type": "markdown",
   "metadata": {
    "colab_type": "text"
   },
   "source": [
    "**Adding dropout to the IMDB model**"
   ]
  },
  {
   "cell_type": "code",
   "execution_count": null,
   "metadata": {
    "colab_type": "code"
   },
   "outputs": [],
   "source": [
    "model = keras.Sequential([\n",
    "    layers.Dense(16, activation=\"relu\"),\n",
    "    layers.Dropout(0.5),\n",
    "    layers.Dense(16, activation=\"relu\"),\n",
    "    layers.Dropout(0.5),\n",
    "    layers.Dense(1, activation=\"sigmoid\")\n",
    "])\n",
    "model.compile(optimizer=\"rmsprop\",\n",
    "              loss=\"binary_crossentropy\",\n",
    "              metrics=[\"accuracy\"])\n",
    "history_dropout = model.fit(\n",
    "    train_data, train_labels,\n",
    "    epochs=20, batch_size=512, validation_split=0.4)"
   ]
  },
  {
   "cell_type": "markdown",
   "metadata": {
    "colab_type": "text"
   },
   "source": [
    "## Summary"
   ]
  }
 ],
 "metadata": {
  "colab": {
   "collapsed_sections": [],
   "name": "chapter05_fundamentals-of-ml.i",
   "private_outputs": false,
   "provenance": [],
   "toc_visible": true
  },
  "kernelspec": {
   "display_name": "deeplearning",
   "language": "python",
   "name": "deeplearning"
  },
  "language_info": {
   "codemirror_mode": {
    "name": "ipython",
    "version": 3
   },
   "file_extension": ".py",
   "mimetype": "text/x-python",
   "name": "python",
   "nbconvert_exporter": "python",
   "pygments_lexer": "ipython3",
   "version": "3.6.13"
  }
 },
 "nbformat": 4,
 "nbformat_minor": 4
}
